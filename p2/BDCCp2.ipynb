{
 "cells": [
  {
   "cell_type": "code",
   "execution_count": 117,
   "metadata": {},
   "outputs": [],
   "source": [
    "from pyspark.sql import functions as F"
   ]
  },
  {
   "cell_type": "code",
   "execution_count": 118,
   "metadata": {},
   "outputs": [],
   "source": [
    "def readCSV(file, debug=False):\n",
    "    if debug: print('Reading ' + file)\n",
    "    return spark.read.csv(file, inferSchema=True, header=True)"
   ]
  },
  {
   "cell_type": "code",
   "execution_count": 119,
   "metadata": {},
   "outputs": [],
   "source": [
    "path = './EVENTS_1000000.csv'\n",
    "\n",
    "df = readCSV(path)"
   ]
  },
  {
   "cell_type": "code",
   "execution_count": 97,
   "metadata": {},
   "outputs": [
    {
     "name": "stdout",
     "output_type": "stream",
     "text": [
      "+-----------+\n",
      "|  Date_time|\n",
      "+-----------+\n",
      "|5.1867182E9|\n",
      "|5.1867182E9|\n",
      "|5.1867182E9|\n",
      "|5.1867182E9|\n",
      "|5.1867182E9|\n",
      "+-----------+\n",
      "only showing top 5 rows\n",
      "\n"
     ]
    }
   ],
   "source": [
    "from datetime import datetime\n",
    "from pyspark.sql.functions import col,udf\n",
    "from pyspark.sql.types import FloatType\n",
    "\n",
    "myfunc = udf(lambda x: x.timestamp())\n",
    "\n",
    "df = df.withColumn('Date_time', myfunc(col('CHARTTIME')))\n",
    "df = df.withColumn('Date_time', df['Date_time'].cast(FloatType()))\n",
    "df.select(df[\"Date_time\"]).show(5)"
   ]
  },
  {
   "cell_type": "code",
   "execution_count": 120,
   "metadata": {},
   "outputs": [
    {
     "name": "stdout",
     "output_type": "stream",
     "text": [
      "root\n",
      " |-- ROW_ID: integer (nullable = true)\n",
      " |-- SUBJECT_ID: integer (nullable = true)\n",
      " |-- HADM_ID: integer (nullable = true)\n",
      " |-- ICUSTAY_ID: integer (nullable = true)\n",
      " |-- ITEMID: integer (nullable = true)\n",
      " |-- CHARTTIME: timestamp (nullable = true)\n",
      " |-- STORETIME: timestamp (nullable = true)\n",
      " |-- CGID: integer (nullable = true)\n",
      " |-- VALUE: double (nullable = true)\n",
      " |-- VALUENUM: double (nullable = true)\n",
      " |-- VALUEUOM: string (nullable = true)\n",
      " |-- WARNING: integer (nullable = true)\n",
      " |-- ERROR: integer (nullable = true)\n",
      " |-- RESULTSTATUS: string (nullable = true)\n",
      " |-- STOPPED: string (nullable = true)\n",
      "\n"
     ]
    }
   ],
   "source": [
    "df.printSchema()"
   ]
  },
  {
   "cell_type": "code",
   "execution_count": 121,
   "metadata": {},
   "outputs": [],
   "source": [
    "import pandas as pd\n",
    "import matplotlib.pyplot as plt"
   ]
  },
  {
   "cell_type": "code",
   "execution_count": 122,
   "metadata": {},
   "outputs": [
    {
     "data": {
      "text/plain": [
       "[Row(ROW_ID=788, SUBJECT_ID=36, HADM_ID=165660, ICUSTAY_ID=241249, ITEMID=223834, CHARTTIME=datetime.datetime(2134, 5, 12, 12, 0), STORETIME=datetime.datetime(2134, 5, 12, 13, 56), CGID=17525, VALUE=15.0, VALUENUM=15.0, VALUEUOM='L/min', WARNING=0, ERROR=0, RESULTSTATUS=None, STOPPED=None),\n",
       " Row(ROW_ID=789, SUBJECT_ID=36, HADM_ID=165660, ICUSTAY_ID=241249, ITEMID=223835, CHARTTIME=datetime.datetime(2134, 5, 12, 12, 0), STORETIME=datetime.datetime(2134, 5, 12, 13, 56), CGID=17525, VALUE=100.0, VALUENUM=100.0, VALUEUOM=None, WARNING=0, ERROR=0, RESULTSTATUS=None, STOPPED=None)]"
      ]
     },
     "execution_count": 122,
     "metadata": {},
     "output_type": "execute_result"
    }
   ],
   "source": [
    "df.take(2)"
   ]
  },
  {
   "cell_type": "markdown",
   "metadata": {},
   "source": [
    "### Goal\n",
    "\n",
    "\"Your task is to perform a statistical analysis on this data and produce timeline graphs for each patient (SUBJECT_ID). Note: one patient can have more than one hospital admission (HADM_ID).\""
   ]
  },
  {
   "cell_type": "code",
   "execution_count": 126,
   "metadata": {},
   "outputs": [
    {
     "name": "stdout",
     "output_type": "stream",
     "text": [
      "+-------+-----------------+------------------+-----------------+--------------------+-------------------+\n",
      "|summary|       SUBJECT_ID|           HADM_ID|         VALUENUM|               ERROR|            WARNING|\n",
      "+-------+-----------------+------------------+-----------------+--------------------+-------------------+\n",
      "|  count|           999999|            999999|           999999|              999999|             999999|\n",
      "|   mean|5800.489858489858|148498.55243055243|85.61895799895798|0.001921001921001921|0.06563406563406564|\n",
      "| stddev|3503.306794094963| 27689.25945747889|778.3065203481909| 0.04378713954960874|0.24764146742572504|\n",
      "|    min|               23|            100009|           -610.0|                   0|                  0|\n",
      "|    max|            10694|            199622|        598185.12|                   1|                  1|\n",
      "+-------+-----------------+------------------+-----------------+--------------------+-------------------+\n",
      "\n"
     ]
    }
   ],
   "source": [
    "df.select(['SUBJECT_ID', 'HADM_ID', 'VALUENUM', 'ERROR', 'WARNING'])\\\n",
    "    .describe().show()"
   ]
  },
  {
   "cell_type": "code",
   "execution_count": 130,
   "metadata": {},
   "outputs": [
    {
     "name": "stdout",
     "output_type": "stream",
     "text": [
      "+--------------------------+\n",
      "|count(DISTINCT SUBJECT_ID)|\n",
      "+--------------------------+\n",
      "|                       499|\n",
      "+--------------------------+\n",
      "\n",
      "+----------+------+\n",
      "|SUBJECT_ID|     n|\n",
      "+----------+------+\n",
      "|     10694|139383|\n",
      "|      2090| 23226|\n",
      "|      8492| 21706|\n",
      "|      5382| 15812|\n",
      "|      6917| 15198|\n",
      "+----------+------+\n",
      "only showing top 5 rows\n",
      "\n"
     ]
    }
   ],
   "source": [
    "# Number of distinct SUBJECT_IDs\n",
    "df.select(F.countDistinct('SUBJECT_ID')).show()\n",
    "\n",
    "# Number of entries per subject\n",
    "df.groupBy('SUBJECT_ID').agg(F.count('ROW_ID').alias('n'))\\\n",
    "    .orderBy('n', ascending=False).show(5)                                                                "
   ]
  },
  {
   "cell_type": "code",
   "execution_count": 129,
   "metadata": {},
   "outputs": [
    {
     "name": "stdout",
     "output_type": "stream",
     "text": [
      "+----------+------+\n",
      "|SUBJECT_ID|n_HADM|\n",
      "+----------+------+\n",
      "|       109|    27|\n",
      "|      5060|    17|\n",
      "|      7809|    15|\n",
      "|      5727|    12|\n",
      "|      3952|    12|\n",
      "+----------+------+\n",
      "only showing top 5 rows\n",
      "\n"
     ]
    }
   ],
   "source": [
    "# Number of admissions per subject\n",
    "df.groupBy('SUBJECT_ID').agg(F.countDistinct('HADM_ID').alias('n_HADM'))\\\n",
    "    .orderBy('n_HADM', ascending=False).show(5)"
   ]
  },
  {
   "cell_type": "code",
   "execution_count": 127,
   "metadata": {},
   "outputs": [
    {
     "name": "stdout",
     "output_type": "stream",
     "text": [
      "+----------+----------+\n",
      "|ICUSTAY_ID|n_subjects|\n",
      "+----------+----------+\n",
      "|      null|        14|\n",
      "|    224911|         1|\n",
      "|    209734|         1|\n",
      "|    250203|         1|\n",
      "|    261926|         1|\n",
      "+----------+----------+\n",
      "only showing top 5 rows\n",
      "\n"
     ]
    }
   ],
   "source": [
    "# Each ICUSTAY has a single subject associated to it\n",
    "df.groupBy('ICUSTAY_ID')\\\n",
    "    .agg(F.countDistinct('SUBJECT_ID').alias('n_subjects'))\\\n",
    "    .orderBy('n_subjects',ascending=False).show(5)"
   ]
  },
  {
   "cell_type": "code",
   "execution_count": 132,
   "metadata": {},
   "outputs": [
    {
     "data": {
      "image/png": "[encoded data removed]",
      "text/plain": [
       "<Figure size 432x288 with 1 Axes>"
      ]
     },
     "metadata": {
      "needs_background": "light"
     },
     "output_type": "display_data"
    }
   ],
   "source": [
    "f, ax = plt.subplots(1)\n",
    "\n",
    "df_test = df.filter(df.ICUSTAY_ID == '261926').select('CHARTTIME', 'VALUENUM')\n",
    "\n",
    "pdf = df_test.toPandas()\n",
    "pdf.plot(kind='line', x='CHARTTIME', y='VALUENUM', color='red', ax=ax)\n",
    "plt.show()"
   ]
  },
  {
   "cell_type": "code",
   "execution_count": 133,
   "metadata": {},
   "outputs": [
    {
     "data": {
      "image/png": "[encoded data removed]",
      "text/plain": [
       "<Figure size 432x288 with 1 Axes>"
      ]
     },
     "metadata": {
      "needs_background": "light"
     },
     "output_type": "display_data"
    }
   ],
   "source": [
    "# histograms of items per patient\n",
    "f, ax = plt.subplots(1)\n",
    "\n",
    "df_patient = df.filter(df.SUBJECT_ID == '10694')\\\n",
    "                .select('STORETIME', 'VALUENUM')\n",
    "\n",
    "df_p = df_patient.toPandas()\n",
    "df_p.plot(kind='line', x='STORETIME', y='VALUENUM', color='red', ax=ax)\n",
    "plt.show()"
   ]
  },
  {
   "cell_type": "code",
   "execution_count": null,
   "metadata": {},
   "outputs": [],
   "source": []
  }
 ],
 "metadata": {
  "kernelspec": {
   "display_name": "Python 3",
   "language": "python",
   "name": "python3"
  },
  "language_info": {
   "codemirror_mode": {
    "name": "ipython",
    "version": 3
   },
   "file_extension": ".py",
   "mimetype": "text/x-python",
   "name": "python",
   "nbconvert_exporter": "python",
   "pygments_lexer": "ipython3",
   "version": "3.7.2"
  }
 },
 "nbformat": 4,
 "nbformat_minor": 2
}
