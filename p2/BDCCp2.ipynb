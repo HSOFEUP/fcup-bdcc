{
 "cells": [
  {
   "cell_type": "code",
   "execution_count": 1,
   "metadata": {},
   "outputs": [],
   "source": [
    "from pyspark.sql import functions as F"
   ]
  },
  {
   "cell_type": "code",
   "execution_count": 2,
   "metadata": {},
   "outputs": [],
   "source": [
    "def readCSV(file, debug=False):\n",
    "    if debug: print('Reading ' + file)\n",
    "    return spark.read.csv(file, inferSchema=True, header=True)"
   ]
  },
  {
   "cell_type": "code",
   "execution_count": 4,
   "metadata": {},
   "outputs": [],
   "source": [
    "path = './EVENTS_1000000.csv'\n",
    "\n",
    "df = readCSV(path)"
   ]
  },
  {
   "cell_type": "code",
   "execution_count": 5,
   "metadata": {},
   "outputs": [
    {
     "data": {
      "text/plain": [
       "Row(ROW_ID=788, SUBJECT_ID=36, HADM_ID=165660, ICUSTAY_ID=241249, ITEMID=223834, CHARTTIME=datetime.datetime(2134, 5, 12, 12, 0), STORETIME=datetime.datetime(2134, 5, 12, 13, 56), CGID=17525, VALUE=15.0, VALUENUM=15.0, VALUEUOM='L/min', WARNING=0, ERROR=0, RESULTSTATUS=None, STOPPED=None)"
      ]
     },
     "execution_count": 5,
     "metadata": {},
     "output_type": "execute_result"
    }
   ],
   "source": [
    "df.head()"
   ]
  },
  {
   "cell_type": "code",
   "execution_count": null,
   "metadata": {},
   "outputs": [],
   "source": []
  }
 ],
 "metadata": {
  "kernelspec": {
   "display_name": "Python 3",
   "language": "python",
   "name": "python3"
  },
  "language_info": {
   "codemirror_mode": {
    "name": "ipython",
    "version": 3
   },
   "file_extension": ".py",
   "mimetype": "text/x-python",
   "name": "python",
   "nbconvert_exporter": "python",
   "pygments_lexer": "ipython3",
   "version": "3.7.2"
  }
 },
 "nbformat": 4,
 "nbformat_minor": 2
}
