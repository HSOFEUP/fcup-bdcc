{
 "cells": [
  {
   "cell_type": "markdown",
   "metadata": {},
   "source": [
    "<h1 align=\"center\">BDCC - Big Data Challenge</h1>\n",
    "\n",
    "<h2 align=\"center\">1M Sample from Dataset</h2>\n",
    "\n",
    "<p style=\"text-align:center\">\n",
    "    António Almeida, up201505836<br>\n",
    "    Miguel Ramalho,  up201403027<br>\n",
    "    Tomás Albuquerque,  up201106437\n",
    "</p>\n",
    "\n",
    "This work is based on a dataset containing hospital events as described [here](https://mimic.physionet.org/mimictables/chartevents/), the provided dataset is _~4.2GB_ (compressed) and accounts for more than 330M instances. It is available [here](https://console.cloud.google.com/storage/browser/big_events/?prefix=EVENTS.csv.gz). For the initial development of this report, a sample with 1M datapoints (the first 1M) was isolated.\n",
    "\n",
    "More data regarding the same context can be found [here](http://www.dcc.fc.up.pt/~ines/MIMIC-III/).\n",
    "\n",
    "For this project we have used the `EVENTS`, `ADMISSIONS` and `CAREGIVERS` tables."
   ]
  },
  {
   "cell_type": "markdown",
   "metadata": {},
   "source": [
    "### Install required libraries"
   ]
  },
  {
   "cell_type": "code",
   "execution_count": 4,
   "metadata": {},
   "outputs": [],
   "source": [
    "!pip3 install matplotlib dask gcsfs seaborn distributed dask_ml dask-xgboost"
   ]
  },
  {
   "cell_type": "markdown",
   "metadata": {},
   "source": [
    "### Initial Imports"
   ]
  },
  {
   "cell_type": "code",
   "execution_count": 6,
   "metadata": {},
   "outputs": [],
   "source": [
    "import matplotlib.pyplot as plt"
   ]
  },
  {
   "cell_type": "code",
   "execution_count": 7,
   "metadata": {},
   "outputs": [],
   "source": [
    "import seaborn as sns\n",
    "sns.set()"
   ]
  },
  {
   "cell_type": "code",
   "execution_count": 8,
   "metadata": {},
   "outputs": [],
   "source": [
    "import dask.dataframe as dd\n",
    "from dask.distributed import Client\n",
    "client = Client()"
   ]
  },
  {
   "cell_type": "markdown",
   "metadata": {},
   "source": [
    "### Utilities functions"
   ]
  },
  {
   "cell_type": "code",
   "execution_count": 9,
   "metadata": {},
   "outputs": [],
   "source": [
    "# reads a DASK DataFrame from an EVENTS csv\n",
    "def read_events(filename):\n",
    "    return dd.read_csv(filename, parse_dates=['CHARTTIME', 'STORETIME'], dtype={'CGID': 'Int64','ICUSTAY_ID': 'Int64'})"
   ]
  },
  {
   "cell_type": "markdown",
   "metadata": {},
   "source": [
    "# Data Visualization\n",
    "This section contains some of the requested plots and some more high level information about the dataset and its contents"
   ]
  },
  {
   "cell_type": "code",
   "execution_count": 10,
   "metadata": {},
   "outputs": [],
   "source": [
    "%matplotlib inline"
   ]
  },
  {
   "cell_type": "code",
   "execution_count": 11,
   "metadata": {},
   "outputs": [],
   "source": [
    "path = './EVENTS_1000000.csv'\n",
    "# path = 'gs://bdcc_up201505836/EVENTS.csv'\n",
    "df = read_events(path)"
   ]
  },
  {
   "cell_type": "code",
   "execution_count": 12,
   "metadata": {
    "scrolled": true
   },
   "outputs": [
    {
     "data": {
      "text/html": [
       "<div>\n",
       "<style scoped>\n",
       "    .dataframe tbody tr th:only-of-type {\n",
       "        vertical-align: middle;\n",
       "    }\n",
       "\n",
       "    .dataframe tbody tr th {\n",
       "        vertical-align: top;\n",
       "    }\n",
       "\n",
       "    .dataframe thead th {\n",
       "        text-align: right;\n",
       "    }\n",
       "</style>\n",
       "<table border=\"1\" class=\"dataframe\">\n",
       "  <thead>\n",
       "    <tr style=\"text-align: right;\">\n",
       "      <th></th>\n",
       "      <th>ROW_ID</th>\n",
       "      <th>SUBJECT_ID</th>\n",
       "      <th>HADM_ID</th>\n",
       "      <th>ICUSTAY_ID</th>\n",
       "      <th>ITEMID</th>\n",
       "      <th>CHARTTIME</th>\n",
       "      <th>STORETIME</th>\n",
       "      <th>CGID</th>\n",
       "      <th>VALUE</th>\n",
       "      <th>VALUENUM</th>\n",
       "      <th>VALUEUOM</th>\n",
       "      <th>WARNING</th>\n",
       "      <th>ERROR</th>\n",
       "      <th>RESULTSTATUS</th>\n",
       "      <th>STOPPED</th>\n",
       "    </tr>\n",
       "  </thead>\n",
       "  <tbody>\n",
       "    <tr>\n",
       "      <th>0</th>\n",
       "      <td>788</td>\n",
       "      <td>36</td>\n",
       "      <td>165660</td>\n",
       "      <td>241249</td>\n",
       "      <td>223834</td>\n",
       "      <td>2134-05-12 12:00:00</td>\n",
       "      <td>2134-05-12 13:56:00</td>\n",
       "      <td>17525</td>\n",
       "      <td>15.00</td>\n",
       "      <td>15.00</td>\n",
       "      <td>L/min</td>\n",
       "      <td>0</td>\n",
       "      <td>0</td>\n",
       "      <td>NaN</td>\n",
       "      <td>NaN</td>\n",
       "    </tr>\n",
       "    <tr>\n",
       "      <th>1</th>\n",
       "      <td>789</td>\n",
       "      <td>36</td>\n",
       "      <td>165660</td>\n",
       "      <td>241249</td>\n",
       "      <td>223835</td>\n",
       "      <td>2134-05-12 12:00:00</td>\n",
       "      <td>2134-05-12 13:56:00</td>\n",
       "      <td>17525</td>\n",
       "      <td>100.00</td>\n",
       "      <td>100.00</td>\n",
       "      <td>NaN</td>\n",
       "      <td>0</td>\n",
       "      <td>0</td>\n",
       "      <td>NaN</td>\n",
       "      <td>NaN</td>\n",
       "    </tr>\n",
       "    <tr>\n",
       "      <th>2</th>\n",
       "      <td>790</td>\n",
       "      <td>36</td>\n",
       "      <td>165660</td>\n",
       "      <td>241249</td>\n",
       "      <td>224328</td>\n",
       "      <td>2134-05-12 12:00:00</td>\n",
       "      <td>2134-05-12 12:18:00</td>\n",
       "      <td>20823</td>\n",
       "      <td>0.37</td>\n",
       "      <td>0.37</td>\n",
       "      <td>NaN</td>\n",
       "      <td>0</td>\n",
       "      <td>0</td>\n",
       "      <td>NaN</td>\n",
       "      <td>NaN</td>\n",
       "    </tr>\n",
       "    <tr>\n",
       "      <th>3</th>\n",
       "      <td>791</td>\n",
       "      <td>36</td>\n",
       "      <td>165660</td>\n",
       "      <td>241249</td>\n",
       "      <td>224329</td>\n",
       "      <td>2134-05-12 12:00:00</td>\n",
       "      <td>2134-05-12 12:19:00</td>\n",
       "      <td>20823</td>\n",
       "      <td>6.00</td>\n",
       "      <td>6.00</td>\n",
       "      <td>min</td>\n",
       "      <td>0</td>\n",
       "      <td>0</td>\n",
       "      <td>NaN</td>\n",
       "      <td>NaN</td>\n",
       "    </tr>\n",
       "    <tr>\n",
       "      <th>4</th>\n",
       "      <td>792</td>\n",
       "      <td>36</td>\n",
       "      <td>165660</td>\n",
       "      <td>241249</td>\n",
       "      <td>224330</td>\n",
       "      <td>2134-05-12 12:00:00</td>\n",
       "      <td>2134-05-12 12:19:00</td>\n",
       "      <td>20823</td>\n",
       "      <td>2.50</td>\n",
       "      <td>2.50</td>\n",
       "      <td>NaN</td>\n",
       "      <td>0</td>\n",
       "      <td>0</td>\n",
       "      <td>NaN</td>\n",
       "      <td>NaN</td>\n",
       "    </tr>\n",
       "  </tbody>\n",
       "</table>\n",
       "</div>"
      ],
      "text/plain": [
       "   ROW_ID  SUBJECT_ID  HADM_ID  ICUSTAY_ID  ITEMID           CHARTTIME  \\\n",
       "0     788          36   165660      241249  223834 2134-05-12 12:00:00   \n",
       "1     789          36   165660      241249  223835 2134-05-12 12:00:00   \n",
       "2     790          36   165660      241249  224328 2134-05-12 12:00:00   \n",
       "3     791          36   165660      241249  224329 2134-05-12 12:00:00   \n",
       "4     792          36   165660      241249  224330 2134-05-12 12:00:00   \n",
       "\n",
       "            STORETIME   CGID   VALUE  VALUENUM VALUEUOM  WARNING  ERROR  \\\n",
       "0 2134-05-12 13:56:00  17525   15.00     15.00    L/min        0      0   \n",
       "1 2134-05-12 13:56:00  17525  100.00    100.00      NaN        0      0   \n",
       "2 2134-05-12 12:18:00  20823    0.37      0.37      NaN        0      0   \n",
       "3 2134-05-12 12:19:00  20823    6.00      6.00      min        0      0   \n",
       "4 2134-05-12 12:19:00  20823    2.50      2.50      NaN        0      0   \n",
       "\n",
       "   RESULTSTATUS  STOPPED  \n",
       "0           NaN      NaN  \n",
       "1           NaN      NaN  \n",
       "2           NaN      NaN  \n",
       "3           NaN      NaN  \n",
       "4           NaN      NaN  "
      ]
     },
     "execution_count": 12,
     "metadata": {},
     "output_type": "execute_result"
    }
   ],
   "source": [
    "df.head()"
   ]
  },
  {
   "cell_type": "code",
   "execution_count": 9,
   "metadata": {},
   "outputs": [
    {
     "data": {
      "text/html": [
       "<div>\n",
       "<style scoped>\n",
       "    .dataframe tbody tr th:only-of-type {\n",
       "        vertical-align: middle;\n",
       "    }\n",
       "\n",
       "    .dataframe tbody tr th {\n",
       "        vertical-align: top;\n",
       "    }\n",
       "\n",
       "    .dataframe thead th {\n",
       "        text-align: right;\n",
       "    }\n",
       "</style>\n",
       "<table border=\"1\" class=\"dataframe\">\n",
       "  <thead>\n",
       "    <tr style=\"text-align: right;\">\n",
       "      <th></th>\n",
       "      <th>ROW_ID</th>\n",
       "      <th>SUBJECT_ID</th>\n",
       "      <th>HADM_ID</th>\n",
       "      <th>ICUSTAY_ID</th>\n",
       "      <th>ITEMID</th>\n",
       "      <th>CGID</th>\n",
       "      <th>VALUE</th>\n",
       "      <th>VALUENUM</th>\n",
       "      <th>WARNING</th>\n",
       "      <th>ERROR</th>\n",
       "      <th>RESULTSTATUS</th>\n",
       "      <th>STOPPED</th>\n",
       "    </tr>\n",
       "  </thead>\n",
       "  <tbody>\n",
       "    <tr>\n",
       "      <th>count</th>\n",
       "      <td>9.999990e+05</td>\n",
       "      <td>999999.000000</td>\n",
       "      <td>999999.000000</td>\n",
       "      <td>999542.000000</td>\n",
       "      <td>999999.000000</td>\n",
       "      <td>847390.000000</td>\n",
       "      <td>999999.000000</td>\n",
       "      <td>999999.000000</td>\n",
       "      <td>999999.000000</td>\n",
       "      <td>999999.000000</td>\n",
       "      <td>0.0</td>\n",
       "      <td>0.0</td>\n",
       "    </tr>\n",
       "    <tr>\n",
       "      <th>mean</th>\n",
       "      <td>5.003201e+05</td>\n",
       "      <td>5800.489858</td>\n",
       "      <td>148498.552431</td>\n",
       "      <td>254446.497683</td>\n",
       "      <td>222180.309609</td>\n",
       "      <td>18182.896204</td>\n",
       "      <td>85.618958</td>\n",
       "      <td>85.618958</td>\n",
       "      <td>0.065634</td>\n",
       "      <td>0.001921</td>\n",
       "      <td>NaN</td>\n",
       "      <td>NaN</td>\n",
       "    </tr>\n",
       "    <tr>\n",
       "      <th>std</th>\n",
       "      <td>2.892129e+05</td>\n",
       "      <td>3503.306794</td>\n",
       "      <td>27689.259457</td>\n",
       "      <td>31045.418397</td>\n",
       "      <td>2488.229065</td>\n",
       "      <td>2288.817959</td>\n",
       "      <td>778.306520</td>\n",
       "      <td>778.306520</td>\n",
       "      <td>0.247641</td>\n",
       "      <td>0.043787</td>\n",
       "      <td>NaN</td>\n",
       "      <td>NaN</td>\n",
       "    </tr>\n",
       "    <tr>\n",
       "      <th>min</th>\n",
       "      <td>1.000000e+00</td>\n",
       "      <td>23.000000</td>\n",
       "      <td>100009.000000</td>\n",
       "      <td>200203.000000</td>\n",
       "      <td>220045.000000</td>\n",
       "      <td>14023.000000</td>\n",
       "      <td>-610.000000</td>\n",
       "      <td>-610.000000</td>\n",
       "      <td>0.000000</td>\n",
       "      <td>0.000000</td>\n",
       "      <td>NaN</td>\n",
       "      <td>NaN</td>\n",
       "    </tr>\n",
       "    <tr>\n",
       "      <th>25%</th>\n",
       "      <td>2.500005e+05</td>\n",
       "      <td>2636.000000</td>\n",
       "      <td>128932.000000</td>\n",
       "      <td>225777.000000</td>\n",
       "      <td>220180.000000</td>\n",
       "      <td>16037.000000</td>\n",
       "      <td>17.000000</td>\n",
       "      <td>17.000000</td>\n",
       "      <td>0.000000</td>\n",
       "      <td>0.000000</td>\n",
       "      <td>NaN</td>\n",
       "      <td>NaN</td>\n",
       "    </tr>\n",
       "    <tr>\n",
       "      <th>50%</th>\n",
       "      <td>5.000000e+05</td>\n",
       "      <td>5885.000000</td>\n",
       "      <td>142471.000000</td>\n",
       "      <td>256064.000000</td>\n",
       "      <td>220277.000000</td>\n",
       "      <td>18462.000000</td>\n",
       "      <td>56.000000</td>\n",
       "      <td>56.000000</td>\n",
       "      <td>0.000000</td>\n",
       "      <td>0.000000</td>\n",
       "      <td>NaN</td>\n",
       "      <td>NaN</td>\n",
       "    </tr>\n",
       "    <tr>\n",
       "      <th>75%</th>\n",
       "      <td>7.499995e+05</td>\n",
       "      <td>8799.000000</td>\n",
       "      <td>172420.000000</td>\n",
       "      <td>284784.000000</td>\n",
       "      <td>224684.000000</td>\n",
       "      <td>20652.000000</td>\n",
       "      <td>97.000000</td>\n",
       "      <td>97.000000</td>\n",
       "      <td>0.000000</td>\n",
       "      <td>0.000000</td>\n",
       "      <td>NaN</td>\n",
       "      <td>NaN</td>\n",
       "    </tr>\n",
       "    <tr>\n",
       "      <th>max</th>\n",
       "      <td>1.058971e+06</td>\n",
       "      <td>10694.000000</td>\n",
       "      <td>199622.000000</td>\n",
       "      <td>299972.000000</td>\n",
       "      <td>228377.000000</td>\n",
       "      <td>21545.000000</td>\n",
       "      <td>598185.120000</td>\n",
       "      <td>598185.120000</td>\n",
       "      <td>1.000000</td>\n",
       "      <td>1.000000</td>\n",
       "      <td>NaN</td>\n",
       "      <td>NaN</td>\n",
       "    </tr>\n",
       "  </tbody>\n",
       "</table>\n",
       "</div>"
      ],
      "text/plain": [
       "             ROW_ID     SUBJECT_ID        HADM_ID     ICUSTAY_ID  \\\n",
       "count  9.999990e+05  999999.000000  999999.000000  999542.000000   \n",
       "mean   5.003201e+05    5800.489858  148498.552431  254446.497683   \n",
       "std    2.892129e+05    3503.306794   27689.259457   31045.418397   \n",
       "min    1.000000e+00      23.000000  100009.000000  200203.000000   \n",
       "25%    2.500005e+05    2636.000000  128932.000000  225777.000000   \n",
       "50%    5.000000e+05    5885.000000  142471.000000  256064.000000   \n",
       "75%    7.499995e+05    8799.000000  172420.000000  284784.000000   \n",
       "max    1.058971e+06   10694.000000  199622.000000  299972.000000   \n",
       "\n",
       "              ITEMID           CGID          VALUE       VALUENUM  \\\n",
       "count  999999.000000  847390.000000  999999.000000  999999.000000   \n",
       "mean   222180.309609   18182.896204      85.618958      85.618958   \n",
       "std      2488.229065    2288.817959     778.306520     778.306520   \n",
       "min    220045.000000   14023.000000    -610.000000    -610.000000   \n",
       "25%    220180.000000   16037.000000      17.000000      17.000000   \n",
       "50%    220277.000000   18462.000000      56.000000      56.000000   \n",
       "75%    224684.000000   20652.000000      97.000000      97.000000   \n",
       "max    228377.000000   21545.000000  598185.120000  598185.120000   \n",
       "\n",
       "             WARNING          ERROR  RESULTSTATUS  STOPPED  \n",
       "count  999999.000000  999999.000000           0.0      0.0  \n",
       "mean        0.065634       0.001921           NaN      NaN  \n",
       "std         0.247641       0.043787           NaN      NaN  \n",
       "min         0.000000       0.000000           NaN      NaN  \n",
       "25%         0.000000       0.000000           NaN      NaN  \n",
       "50%         0.000000       0.000000           NaN      NaN  \n",
       "75%         0.000000       0.000000           NaN      NaN  \n",
       "max         1.000000       1.000000           NaN      NaN  "
      ]
     },
     "execution_count": 9,
     "metadata": {},
     "output_type": "execute_result"
    }
   ],
   "source": [
    "df.compute().describe()"
   ]
  },
  {
   "cell_type": "markdown",
   "metadata": {},
   "source": [
    "### Scatter Plot of values per item\n",
    "- For a given item, i.e., `ITEMID`, get its respective rows\n",
    "- Plot its items, i.e., `VALUENUM` entries\n",
    "- A scatter plot was used as it represents more appropriately the data presented"
   ]
  },
  {
   "cell_type": "code",
   "execution_count": 13,
   "metadata": {},
   "outputs": [],
   "source": [
    "def item_hist(df, item):\n",
    "    df[['ITEMID', 'CHARTTIME', 'VALUENUM']]\\\n",
    "        .query(f'ITEMID == {item}')\\\n",
    "        .compute()\\\n",
    "        .plot(x='CHARTTIME', y='VALUENUM', style='.', figsize=(14,7), title=f'Values for ITEMID {item}')\n",
    "    \n",
    "    # display options\n",
    "    ax = plt.gca(); ax.set_xlabel('Time'); ax.set_ylabel('Values')"
   ]
  },
  {
   "cell_type": "code",
   "execution_count": 14,
   "metadata": {},
   "outputs": [
    {
     "data": {
      "image/png": "[encoded data removed]",
      "text/plain": [
       "<Figure size 1008x504 with 1 Axes>"
      ]
     },
     "metadata": {
      "needs_background": "light"
     },
     "output_type": "display_data"
    }
   ],
   "source": [
    "item_hist(df, item=223834)"
   ]
  },
  {
   "cell_type": "markdown",
   "metadata": {},
   "source": [
    "### Histogram of values per patient\n",
    "\n",
    "- For each patient, i.e., `SUBJECT_ID`, get its hospital admissions, i.e., `HADM_ID`\n",
    "- For each hospital admission, plot the entries for each item, i.e., `VALUENUM` for each `ITEMID`\n",
    "- A scatter plot was used as it represents more appropriately the data presented"
   ]
  },
  {
   "cell_type": "code",
   "execution_count": 15,
   "metadata": {},
   "outputs": [],
   "source": [
    "# Get histogram of values per patient\n",
    "def patient_hist(df, patient):\n",
    "    df[['SUBJECT_ID', 'ITEMID', 'VALUENUM', 'HADM_ID']]\\\n",
    "                .query(f'SUBJECT_ID == {patient}')\\\n",
    "                .compute()\\\n",
    "                .groupby('HADM_ID')['ITEMID', 'VALUENUM']\\\n",
    "                .plot(x='ITEMID', y='VALUENUM', kind='scatter', figsize=(14,7), title=\"Values per patient\", c=\"b\")"
   ]
  },
  {
   "cell_type": "code",
   "execution_count": 16,
   "metadata": {
    "scrolled": false
   },
   "outputs": [
    {
     "data": {
      "image/png": "[encoded data removed]",
      "text/plain": [
       "<Figure size 1008x504 with 1 Axes>"
      ]
     },
     "metadata": {
      "needs_background": "light"
     },
     "output_type": "display_data"
    },
    {
     "data": {
      "image/png": "[encoded data removed]",
      "text/plain": [
       "<Figure size 1008x504 with 1 Axes>"
      ]
     },
     "metadata": {
      "needs_background": "light"
     },
     "output_type": "display_data"
    },
    {
     "data": {
      "image/png": "[encoded data removed]",
      "text/plain": [
       "<Figure size 1008x504 with 1 Axes>"
      ]
     },
     "metadata": {
      "needs_background": "light"
     },
     "output_type": "display_data"
    },
    {
     "data": {
      "image/png": "[encoded data removed]",
      "text/plain": [
       "<Figure size 1008x504 with 1 Axes>"
      ]
     },
     "metadata": {
      "needs_background": "light"
     },
     "output_type": "display_data"
    }
   ],
   "source": [
    "patient_hist(df, patient=2090)"
   ]
  },
  {
   "cell_type": "markdown",
   "metadata": {},
   "source": [
    "### Histogram of frequency per item"
   ]
  },
  {
   "cell_type": "code",
   "execution_count": 17,
   "metadata": {},
   "outputs": [],
   "source": [
    "# Get histogram of frequency per item\n",
    "def item_hist(df):\n",
    "    df[['ITEMID', 'VALUENUM']].compute().groupby('ITEMID').count().hist(figsize=(14, 7))\n",
    "    \n",
    "    # display options\n",
    "    ax = plt.gca(); ax.set_xlabel('Items'); ax.set_ylabel('Frequency'); ax.set_title('Frequency per item')"
   ]
  },
  {
   "cell_type": "code",
   "execution_count": 18,
   "metadata": {},
   "outputs": [
    {
     "data": {
      "image/png": "[encoded data removed]",
      "text/plain": [
       "<Figure size 1008x504 with 1 Axes>"
      ]
     },
     "metadata": {
      "needs_background": "light"
     },
     "output_type": "display_data"
    }
   ],
   "source": [
    "item_hist(df)"
   ]
  },
  {
   "cell_type": "markdown",
   "metadata": {},
   "source": [
    "### Items's values over time for a given ICU\n",
    "- For a given Intensive Care Unit instance, i.e., `ICUSTAY_ID`, get its entries\n",
    "- Plot its items' values, i.e., `VALUENUM` entries, over time"
   ]
  },
  {
   "cell_type": "code",
   "execution_count": 19,
   "metadata": {},
   "outputs": [],
   "source": [
    "def icu_hist(df, icu):\n",
    "    df_icu = df[['SUBJECT_ID', 'VALUENUM', 'ICUSTAY_ID', 'CHARTTIME', 'ITEMID']]\\\n",
    "                .query(f'ICUSTAY_ID == {icu}')\\\n",
    "                .compute()    \n",
    "    sns.relplot(x=\"CHARTTIME\", y=\"VALUENUM\", col=\"ICUSTAY_ID\",\n",
    "                # hue=\"ITEMID\", #style=\"ITEMID\", # size=\"VALUENUM\",\n",
    "                kind=\"line\", legend=\"full\",\n",
    "                height=8, aspect=2, \n",
    "                data=df_icu);"
   ]
  },
  {
   "cell_type": "code",
   "execution_count": 20,
   "metadata": {
    "scrolled": false
   },
   "outputs": [
    {
     "data": {
      "image/png": "[encoded data removed]",
      "text/plain": [
       "<Figure size 1152x576 with 1 Axes>"
      ]
     },
     "metadata": {
      "needs_background": "light"
     },
     "output_type": "display_data"
    }
   ],
   "source": [
    "icu_hist(df, 261926)"
   ]
  },
  {
   "cell_type": "markdown",
   "metadata": {},
   "source": [
    "# Simple Analysis of Admissions Table\n",
    "This table will be used in the ML task, namely to get the Length of Stay (LoS) of a given patient, so a simple read and analysis is performed to extract some interesting insight.\n",
    "\n",
    "_Note:_ The format used for the time information is not clear and yields strange dates, however, we are only focused on time differences so that is not a concern, since the absolute difference remains valid for the LoS calculation. "
   ]
  },
  {
   "cell_type": "code",
   "execution_count": 21,
   "metadata": {},
   "outputs": [],
   "source": [
    "# reads a DASK DataFrame from an ADMISSIONS csv\n",
    "def read_admissions(filename=\"ADMISSIONS.csv\"):\n",
    "    return dd.read_csv(filename, parse_dates=['ADMITTIME', 'DISCHTIME', 'DEATHTIME'])"
   ]
  },
  {
   "cell_type": "code",
   "execution_count": 22,
   "metadata": {
    "scrolled": false
   },
   "outputs": [
    {
     "data": {
      "text/html": [
       "<div>\n",
       "<style scoped>\n",
       "    .dataframe tbody tr th:only-of-type {\n",
       "        vertical-align: middle;\n",
       "    }\n",
       "\n",
       "    .dataframe tbody tr th {\n",
       "        vertical-align: top;\n",
       "    }\n",
       "\n",
       "    .dataframe thead th {\n",
       "        text-align: right;\n",
       "    }\n",
       "</style>\n",
       "<table border=\"1\" class=\"dataframe\">\n",
       "  <thead>\n",
       "    <tr style=\"text-align: right;\">\n",
       "      <th></th>\n",
       "      <th>ROW_ID</th>\n",
       "      <th>SUBJECT_ID</th>\n",
       "      <th>HADM_ID</th>\n",
       "      <th>ADMITTIME</th>\n",
       "      <th>DISCHTIME</th>\n",
       "      <th>DEATHTIME</th>\n",
       "      <th>ADMISSION_TYPE</th>\n",
       "      <th>ADMISSION_LOCATION</th>\n",
       "      <th>DISCHARGE_LOCATION</th>\n",
       "      <th>INSURANCE</th>\n",
       "      <th>LANGUAGE</th>\n",
       "      <th>RELIGION</th>\n",
       "      <th>MARITAL_STATUS</th>\n",
       "      <th>ETHNICITY</th>\n",
       "      <th>EDREGTIME</th>\n",
       "      <th>EDOUTTIME</th>\n",
       "      <th>DIAGNOSIS</th>\n",
       "      <th>HOSPITAL_EXPIRE_FLAG</th>\n",
       "      <th>HAS_CHARTEVENTS_DATA</th>\n",
       "    </tr>\n",
       "  </thead>\n",
       "  <tbody>\n",
       "    <tr>\n",
       "      <th>0</th>\n",
       "      <td>21</td>\n",
       "      <td>22</td>\n",
       "      <td>165315</td>\n",
       "      <td>2196-04-09 12:26:00</td>\n",
       "      <td>2196-04-10 15:54:00</td>\n",
       "      <td>NaT</td>\n",
       "      <td>EMERGENCY</td>\n",
       "      <td>EMERGENCY ROOM ADMIT</td>\n",
       "      <td>DISC-TRAN CANCER/CHLDRN H</td>\n",
       "      <td>Private</td>\n",
       "      <td>NaN</td>\n",
       "      <td>UNOBTAINABLE</td>\n",
       "      <td>MARRIED</td>\n",
       "      <td>WHITE</td>\n",
       "      <td>2196-04-09 10:06:00</td>\n",
       "      <td>2196-04-09 13:24:00</td>\n",
       "      <td>BENZODIAZEPINE OVERDOSE</td>\n",
       "      <td>0</td>\n",
       "      <td>1</td>\n",
       "    </tr>\n",
       "    <tr>\n",
       "      <th>1</th>\n",
       "      <td>22</td>\n",
       "      <td>23</td>\n",
       "      <td>152223</td>\n",
       "      <td>2153-09-03 07:15:00</td>\n",
       "      <td>2153-09-08 19:10:00</td>\n",
       "      <td>NaT</td>\n",
       "      <td>ELECTIVE</td>\n",
       "      <td>PHYS REFERRAL/NORMAL DELI</td>\n",
       "      <td>HOME HEALTH CARE</td>\n",
       "      <td>Medicare</td>\n",
       "      <td>NaN</td>\n",
       "      <td>CATHOLIC</td>\n",
       "      <td>MARRIED</td>\n",
       "      <td>WHITE</td>\n",
       "      <td>NaN</td>\n",
       "      <td>NaN</td>\n",
       "      <td>CORONARY ARTERY DISEASE\\CORONARY ARTERY BYPASS...</td>\n",
       "      <td>0</td>\n",
       "      <td>1</td>\n",
       "    </tr>\n",
       "    <tr>\n",
       "      <th>2</th>\n",
       "      <td>23</td>\n",
       "      <td>23</td>\n",
       "      <td>124321</td>\n",
       "      <td>2157-10-18 19:34:00</td>\n",
       "      <td>2157-10-25 14:00:00</td>\n",
       "      <td>NaT</td>\n",
       "      <td>EMERGENCY</td>\n",
       "      <td>TRANSFER FROM HOSP/EXTRAM</td>\n",
       "      <td>HOME HEALTH CARE</td>\n",
       "      <td>Medicare</td>\n",
       "      <td>ENGL</td>\n",
       "      <td>CATHOLIC</td>\n",
       "      <td>MARRIED</td>\n",
       "      <td>WHITE</td>\n",
       "      <td>NaN</td>\n",
       "      <td>NaN</td>\n",
       "      <td>BRAIN MASS</td>\n",
       "      <td>0</td>\n",
       "      <td>1</td>\n",
       "    </tr>\n",
       "    <tr>\n",
       "      <th>3</th>\n",
       "      <td>24</td>\n",
       "      <td>24</td>\n",
       "      <td>161859</td>\n",
       "      <td>2139-06-06 16:14:00</td>\n",
       "      <td>2139-06-09 12:48:00</td>\n",
       "      <td>NaT</td>\n",
       "      <td>EMERGENCY</td>\n",
       "      <td>TRANSFER FROM HOSP/EXTRAM</td>\n",
       "      <td>HOME</td>\n",
       "      <td>Private</td>\n",
       "      <td>NaN</td>\n",
       "      <td>PROTESTANT QUAKER</td>\n",
       "      <td>SINGLE</td>\n",
       "      <td>WHITE</td>\n",
       "      <td>NaN</td>\n",
       "      <td>NaN</td>\n",
       "      <td>INTERIOR MYOCARDIAL INFARCTION</td>\n",
       "      <td>0</td>\n",
       "      <td>1</td>\n",
       "    </tr>\n",
       "    <tr>\n",
       "      <th>4</th>\n",
       "      <td>25</td>\n",
       "      <td>25</td>\n",
       "      <td>129635</td>\n",
       "      <td>2160-11-02 02:06:00</td>\n",
       "      <td>2160-11-05 14:55:00</td>\n",
       "      <td>NaT</td>\n",
       "      <td>EMERGENCY</td>\n",
       "      <td>EMERGENCY ROOM ADMIT</td>\n",
       "      <td>HOME</td>\n",
       "      <td>Private</td>\n",
       "      <td>NaN</td>\n",
       "      <td>UNOBTAINABLE</td>\n",
       "      <td>MARRIED</td>\n",
       "      <td>WHITE</td>\n",
       "      <td>2160-11-02 01:01:00</td>\n",
       "      <td>2160-11-02 04:27:00</td>\n",
       "      <td>ACUTE CORONARY SYNDROME</td>\n",
       "      <td>0</td>\n",
       "      <td>1</td>\n",
       "    </tr>\n",
       "  </tbody>\n",
       "</table>\n",
       "</div>"
      ],
      "text/plain": [
       "   ROW_ID  SUBJECT_ID  HADM_ID           ADMITTIME           DISCHTIME  \\\n",
       "0      21          22   165315 2196-04-09 12:26:00 2196-04-10 15:54:00   \n",
       "1      22          23   152223 2153-09-03 07:15:00 2153-09-08 19:10:00   \n",
       "2      23          23   124321 2157-10-18 19:34:00 2157-10-25 14:00:00   \n",
       "3      24          24   161859 2139-06-06 16:14:00 2139-06-09 12:48:00   \n",
       "4      25          25   129635 2160-11-02 02:06:00 2160-11-05 14:55:00   \n",
       "\n",
       "  DEATHTIME ADMISSION_TYPE         ADMISSION_LOCATION  \\\n",
       "0       NaT      EMERGENCY       EMERGENCY ROOM ADMIT   \n",
       "1       NaT       ELECTIVE  PHYS REFERRAL/NORMAL DELI   \n",
       "2       NaT      EMERGENCY  TRANSFER FROM HOSP/EXTRAM   \n",
       "3       NaT      EMERGENCY  TRANSFER FROM HOSP/EXTRAM   \n",
       "4       NaT      EMERGENCY       EMERGENCY ROOM ADMIT   \n",
       "\n",
       "          DISCHARGE_LOCATION INSURANCE LANGUAGE           RELIGION  \\\n",
       "0  DISC-TRAN CANCER/CHLDRN H   Private      NaN       UNOBTAINABLE   \n",
       "1           HOME HEALTH CARE  Medicare      NaN           CATHOLIC   \n",
       "2           HOME HEALTH CARE  Medicare     ENGL           CATHOLIC   \n",
       "3                       HOME   Private      NaN  PROTESTANT QUAKER   \n",
       "4                       HOME   Private      NaN       UNOBTAINABLE   \n",
       "\n",
       "  MARITAL_STATUS ETHNICITY            EDREGTIME            EDOUTTIME  \\\n",
       "0        MARRIED     WHITE  2196-04-09 10:06:00  2196-04-09 13:24:00   \n",
       "1        MARRIED     WHITE                  NaN                  NaN   \n",
       "2        MARRIED     WHITE                  NaN                  NaN   \n",
       "3         SINGLE     WHITE                  NaN                  NaN   \n",
       "4        MARRIED     WHITE  2160-11-02 01:01:00  2160-11-02 04:27:00   \n",
       "\n",
       "                                           DIAGNOSIS  HOSPITAL_EXPIRE_FLAG  \\\n",
       "0                            BENZODIAZEPINE OVERDOSE                     0   \n",
       "1  CORONARY ARTERY DISEASE\\CORONARY ARTERY BYPASS...                     0   \n",
       "2                                         BRAIN MASS                     0   \n",
       "3                     INTERIOR MYOCARDIAL INFARCTION                     0   \n",
       "4                            ACUTE CORONARY SYNDROME                     0   \n",
       "\n",
       "   HAS_CHARTEVENTS_DATA  \n",
       "0                     1  \n",
       "1                     1  \n",
       "2                     1  \n",
       "3                     1  \n",
       "4                     1  "
      ]
     },
     "execution_count": 22,
     "metadata": {},
     "output_type": "execute_result"
    }
   ],
   "source": [
    "df_a = read_admissions()\n",
    "df_a.head()"
   ]
  },
  {
   "cell_type": "code",
   "execution_count": 23,
   "metadata": {},
   "outputs": [
    {
     "data": {
      "text/html": [
       "<div>\n",
       "<style scoped>\n",
       "    .dataframe tbody tr th:only-of-type {\n",
       "        vertical-align: middle;\n",
       "    }\n",
       "\n",
       "    .dataframe tbody tr th {\n",
       "        vertical-align: top;\n",
       "    }\n",
       "\n",
       "    .dataframe thead th {\n",
       "        text-align: right;\n",
       "    }\n",
       "</style>\n",
       "<table border=\"1\" class=\"dataframe\">\n",
       "  <thead>\n",
       "    <tr style=\"text-align: right;\">\n",
       "      <th></th>\n",
       "      <th>ROW_ID</th>\n",
       "      <th>SUBJECT_ID</th>\n",
       "      <th>HADM_ID</th>\n",
       "      <th>HOSPITAL_EXPIRE_FLAG</th>\n",
       "      <th>HAS_CHARTEVENTS_DATA</th>\n",
       "    </tr>\n",
       "  </thead>\n",
       "  <tbody>\n",
       "    <tr>\n",
       "      <th>count</th>\n",
       "      <td>58976.000000</td>\n",
       "      <td>58976.000000</td>\n",
       "      <td>58976.000000</td>\n",
       "      <td>58976.000000</td>\n",
       "      <td>58976.000000</td>\n",
       "    </tr>\n",
       "    <tr>\n",
       "      <th>mean</th>\n",
       "      <td>29488.500000</td>\n",
       "      <td>33755.583288</td>\n",
       "      <td>149970.809584</td>\n",
       "      <td>0.099261</td>\n",
       "      <td>0.973006</td>\n",
       "    </tr>\n",
       "    <tr>\n",
       "      <th>std</th>\n",
       "      <td>17025.049075</td>\n",
       "      <td>28092.726225</td>\n",
       "      <td>28883.095213</td>\n",
       "      <td>0.299014</td>\n",
       "      <td>0.162067</td>\n",
       "    </tr>\n",
       "    <tr>\n",
       "      <th>min</th>\n",
       "      <td>1.000000</td>\n",
       "      <td>2.000000</td>\n",
       "      <td>100001.000000</td>\n",
       "      <td>0.000000</td>\n",
       "      <td>0.000000</td>\n",
       "    </tr>\n",
       "    <tr>\n",
       "      <th>25%</th>\n",
       "      <td>14744.750000</td>\n",
       "      <td>11993.750000</td>\n",
       "      <td>124952.750000</td>\n",
       "      <td>0.000000</td>\n",
       "      <td>1.000000</td>\n",
       "    </tr>\n",
       "    <tr>\n",
       "      <th>50%</th>\n",
       "      <td>29488.500000</td>\n",
       "      <td>24133.500000</td>\n",
       "      <td>149989.500000</td>\n",
       "      <td>0.000000</td>\n",
       "      <td>1.000000</td>\n",
       "    </tr>\n",
       "    <tr>\n",
       "      <th>75%</th>\n",
       "      <td>44232.250000</td>\n",
       "      <td>53851.500000</td>\n",
       "      <td>174966.500000</td>\n",
       "      <td>0.000000</td>\n",
       "      <td>1.000000</td>\n",
       "    </tr>\n",
       "    <tr>\n",
       "      <th>max</th>\n",
       "      <td>58976.000000</td>\n",
       "      <td>99999.000000</td>\n",
       "      <td>199999.000000</td>\n",
       "      <td>1.000000</td>\n",
       "      <td>1.000000</td>\n",
       "    </tr>\n",
       "  </tbody>\n",
       "</table>\n",
       "</div>"
      ],
      "text/plain": [
       "             ROW_ID    SUBJECT_ID        HADM_ID  HOSPITAL_EXPIRE_FLAG  \\\n",
       "count  58976.000000  58976.000000   58976.000000          58976.000000   \n",
       "mean   29488.500000  33755.583288  149970.809584              0.099261   \n",
       "std    17025.049075  28092.726225   28883.095213              0.299014   \n",
       "min        1.000000      2.000000  100001.000000              0.000000   \n",
       "25%    14744.750000  11993.750000  124952.750000              0.000000   \n",
       "50%    29488.500000  24133.500000  149989.500000              0.000000   \n",
       "75%    44232.250000  53851.500000  174966.500000              0.000000   \n",
       "max    58976.000000  99999.000000  199999.000000              1.000000   \n",
       "\n",
       "       HAS_CHARTEVENTS_DATA  \n",
       "count          58976.000000  \n",
       "mean               0.973006  \n",
       "std                0.162067  \n",
       "min                0.000000  \n",
       "25%                1.000000  \n",
       "50%                1.000000  \n",
       "75%                1.000000  \n",
       "max                1.000000  "
      ]
     },
     "execution_count": 23,
     "metadata": {},
     "output_type": "execute_result"
    }
   ],
   "source": [
    "df_a.describe().compute()"
   ]
  },
  {
   "cell_type": "code",
   "execution_count": 24,
   "metadata": {
    "scrolled": true
   },
   "outputs": [
    {
     "name": "stdout",
     "output_type": "stream",
     "text": [
      "Number of deaths: 5854/58976 (9.93% of the number of admissions)\n"
     ]
    }
   ],
   "source": [
    "deaths = len(df_a[df_a.DEATHTIME.notnull()])\n",
    "adm = len(df_a)\n",
    "print(\"Number of deaths: %d/%d (%.2f%% of the number of admissions)\" % (deaths, adm, 100*deaths/adm))"
   ]
  },
  {
   "cell_type": "markdown",
   "metadata": {},
   "source": [
    "Calculate the **LoS** for each admission"
   ]
  },
  {
   "cell_type": "code",
   "execution_count": 25,
   "metadata": {},
   "outputs": [],
   "source": [
    "df_los = (df_a.DISCHTIME - df_a.ADMITTIME).dt.total_seconds().compute().to_frame()\n",
    "df_los.columns = [\"los\"]\n",
    "df_los[\"HADM_ID\"] = df_a.HADM_ID\n",
    "df_los[\"dead\"] = df_a.DEATHTIME.notnull()\n",
    "df_los[\"type\"] = df_a.ADMISSION_TYPE\n",
    "df_los[\"time\"] = df_a.ADMITTIME"
   ]
  },
  {
   "cell_type": "code",
   "execution_count": 26,
   "metadata": {},
   "outputs": [
    {
     "data": {
      "text/html": [
       "<div>\n",
       "<style scoped>\n",
       "    .dataframe tbody tr th:only-of-type {\n",
       "        vertical-align: middle;\n",
       "    }\n",
       "\n",
       "    .dataframe tbody tr th {\n",
       "        vertical-align: top;\n",
       "    }\n",
       "\n",
       "    .dataframe thead th {\n",
       "        text-align: right;\n",
       "    }\n",
       "</style>\n",
       "<table border=\"1\" class=\"dataframe\">\n",
       "  <thead>\n",
       "    <tr style=\"text-align: right;\">\n",
       "      <th></th>\n",
       "      <th>los</th>\n",
       "      <th>HADM_ID</th>\n",
       "      <th>dead</th>\n",
       "      <th>type</th>\n",
       "      <th>time</th>\n",
       "    </tr>\n",
       "  </thead>\n",
       "  <tbody>\n",
       "    <tr>\n",
       "      <th>0</th>\n",
       "      <td>98880.0</td>\n",
       "      <td>165315</td>\n",
       "      <td>False</td>\n",
       "      <td>EMERGENCY</td>\n",
       "      <td>2196-04-09 12:26:00</td>\n",
       "    </tr>\n",
       "    <tr>\n",
       "      <th>1</th>\n",
       "      <td>474900.0</td>\n",
       "      <td>152223</td>\n",
       "      <td>False</td>\n",
       "      <td>ELECTIVE</td>\n",
       "      <td>2153-09-03 07:15:00</td>\n",
       "    </tr>\n",
       "    <tr>\n",
       "      <th>2</th>\n",
       "      <td>584760.0</td>\n",
       "      <td>124321</td>\n",
       "      <td>False</td>\n",
       "      <td>EMERGENCY</td>\n",
       "      <td>2157-10-18 19:34:00</td>\n",
       "    </tr>\n",
       "    <tr>\n",
       "      <th>3</th>\n",
       "      <td>246840.0</td>\n",
       "      <td>161859</td>\n",
       "      <td>False</td>\n",
       "      <td>EMERGENCY</td>\n",
       "      <td>2139-06-06 16:14:00</td>\n",
       "    </tr>\n",
       "    <tr>\n",
       "      <th>4</th>\n",
       "      <td>305340.0</td>\n",
       "      <td>129635</td>\n",
       "      <td>False</td>\n",
       "      <td>EMERGENCY</td>\n",
       "      <td>2160-11-02 02:06:00</td>\n",
       "    </tr>\n",
       "  </tbody>\n",
       "</table>\n",
       "</div>"
      ],
      "text/plain": [
       "        los  HADM_ID   dead       type                time\n",
       "0   98880.0   165315  False  EMERGENCY 2196-04-09 12:26:00\n",
       "1  474900.0   152223  False   ELECTIVE 2153-09-03 07:15:00\n",
       "2  584760.0   124321  False  EMERGENCY 2157-10-18 19:34:00\n",
       "3  246840.0   161859  False  EMERGENCY 2139-06-06 16:14:00\n",
       "4  305340.0   129635  False  EMERGENCY 2160-11-02 02:06:00"
      ]
     },
     "execution_count": 26,
     "metadata": {},
     "output_type": "execute_result"
    }
   ],
   "source": [
    "df_los.head()"
   ]
  },
  {
   "cell_type": "code",
   "execution_count": 27,
   "metadata": {},
   "outputs": [
    {
     "data": {
      "image/png": "[encoded data removed]",
      "text/plain": [
       "<Figure size 1152x576 with 1 Axes>"
      ]
     },
     "metadata": {
      "needs_background": "light"
     },
     "output_type": "display_data"
    }
   ],
   "source": [
    "plt.figure(figsize=(16,8))\n",
    "sns.scatterplot(x=\"los\", y=\"type\", hue=\"dead\", legend=\"full\", data=df_los);"
   ]
  },
  {
   "cell_type": "markdown",
   "metadata": {},
   "source": [
    "# Simple Analysis of Caregivers Table\n",
    "This table will be used in the ML task, namely to get the total number of available caregivers. In a way, we will try to predict which caregivers are associated with longer stays. "
   ]
  },
  {
   "cell_type": "code",
   "execution_count": 28,
   "metadata": {},
   "outputs": [],
   "source": [
    "# reads a DASK DataFrame from an ADMISSIONS csv\n",
    "def read_caregivers(filename=\"CAREGIVERS.csv\"):\n",
    "    return dd.read_csv(filename)"
   ]
  },
  {
   "cell_type": "code",
   "execution_count": 29,
   "metadata": {},
   "outputs": [
    {
     "data": {
      "text/html": [
       "<div>\n",
       "<style scoped>\n",
       "    .dataframe tbody tr th:only-of-type {\n",
       "        vertical-align: middle;\n",
       "    }\n",
       "\n",
       "    .dataframe tbody tr th {\n",
       "        vertical-align: top;\n",
       "    }\n",
       "\n",
       "    .dataframe thead th {\n",
       "        text-align: right;\n",
       "    }\n",
       "</style>\n",
       "<table border=\"1\" class=\"dataframe\">\n",
       "  <thead>\n",
       "    <tr style=\"text-align: right;\">\n",
       "      <th></th>\n",
       "      <th>ROW_ID</th>\n",
       "      <th>CGID</th>\n",
       "      <th>LABEL</th>\n",
       "      <th>DESCRIPTION</th>\n",
       "    </tr>\n",
       "  </thead>\n",
       "  <tbody>\n",
       "    <tr>\n",
       "      <th>0</th>\n",
       "      <td>2228</td>\n",
       "      <td>16174</td>\n",
       "      <td>RO</td>\n",
       "      <td>Read Only</td>\n",
       "    </tr>\n",
       "    <tr>\n",
       "      <th>1</th>\n",
       "      <td>2229</td>\n",
       "      <td>16175</td>\n",
       "      <td>RO</td>\n",
       "      <td>Read Only</td>\n",
       "    </tr>\n",
       "    <tr>\n",
       "      <th>2</th>\n",
       "      <td>2230</td>\n",
       "      <td>16176</td>\n",
       "      <td>Res</td>\n",
       "      <td>Resident/Fellow/PA/NP</td>\n",
       "    </tr>\n",
       "    <tr>\n",
       "      <th>3</th>\n",
       "      <td>2231</td>\n",
       "      <td>16177</td>\n",
       "      <td>RO</td>\n",
       "      <td>Read Only</td>\n",
       "    </tr>\n",
       "    <tr>\n",
       "      <th>4</th>\n",
       "      <td>2232</td>\n",
       "      <td>16178</td>\n",
       "      <td>RT</td>\n",
       "      <td>Respiratory</td>\n",
       "    </tr>\n",
       "  </tbody>\n",
       "</table>\n",
       "</div>"
      ],
      "text/plain": [
       "   ROW_ID   CGID LABEL            DESCRIPTION\n",
       "0    2228  16174    RO              Read Only\n",
       "1    2229  16175    RO              Read Only\n",
       "2    2230  16176   Res  Resident/Fellow/PA/NP\n",
       "3    2231  16177    RO              Read Only\n",
       "4    2232  16178    RT            Respiratory"
      ]
     },
     "execution_count": 29,
     "metadata": {},
     "output_type": "execute_result"
    }
   ],
   "source": [
    "df_c = read_caregivers()\n",
    "df_c.head()"
   ]
  },
  {
   "cell_type": "markdown",
   "metadata": {},
   "source": [
    "What kind of caregivers are there?"
   ]
  },
  {
   "cell_type": "code",
   "execution_count": 30,
   "metadata": {
    "scrolled": false
   },
   "outputs": [
    {
     "name": "stdout",
     "output_type": "stream",
     "text": [
      "['Read Only', 'Resident/Fellow/PA/NP', 'Respiratory', 'Rehabilitation', nan, 'Case Manager', 'RN', 'Attending', 'Social Worker', 'Pharmacist', 'Dietitian', 'PCT/NA', 'Administrator', 'Pastoral Care', 'Research Assistant', 'UCO', 'IMD']\n"
     ]
    }
   ],
   "source": [
    "print(df_c.DESCRIPTION.unique().compute().tolist())"
   ]
  },
  {
   "cell_type": "code",
   "execution_count": 31,
   "metadata": {
    "scrolled": false
   },
   "outputs": [
    {
     "data": {
      "image/png": "[encoded data removed]",
      "text/plain": [
       "<Figure size 1152x576 with 1 Axes>"
      ]
     },
     "metadata": {
      "needs_background": "light"
     },
     "output_type": "display_data"
    }
   ],
   "source": [
    "plt.figure(figsize=(16,8))\n",
    "ax = sns.countplot(x=\"DESCRIPTION\", data=df_c.compute())\n",
    "ax.set_xticklabels(ax.get_xticklabels(), rotation=30);"
   ]
  },
  {
   "cell_type": "markdown",
   "metadata": {},
   "source": [
    "# Machine Learning Task - Constructing the Dataset\n",
    "The goal is to generate the clean dataset for the prediction task: `[FEATURES | Target]` where target is the LoS value (seconds)"
   ]
  },
  {
   "cell_type": "code",
   "execution_count": 32,
   "metadata": {
    "scrolled": false
   },
   "outputs": [
    {
     "data": {
      "text/html": [
       "<div>\n",
       "<style scoped>\n",
       "    .dataframe tbody tr th:only-of-type {\n",
       "        vertical-align: middle;\n",
       "    }\n",
       "\n",
       "    .dataframe tbody tr th {\n",
       "        vertical-align: top;\n",
       "    }\n",
       "\n",
       "    .dataframe thead th {\n",
       "        text-align: right;\n",
       "    }\n",
       "</style>\n",
       "<table border=\"1\" class=\"dataframe\">\n",
       "  <thead>\n",
       "    <tr style=\"text-align: right;\">\n",
       "      <th></th>\n",
       "      <th>HADM_ID</th>\n",
       "      <th>los</th>\n",
       "      <th>time</th>\n",
       "    </tr>\n",
       "  </thead>\n",
       "  <tbody>\n",
       "    <tr>\n",
       "      <th>0</th>\n",
       "      <td>165315</td>\n",
       "      <td>98880.0</td>\n",
       "      <td>2196-04-09 12:26:00</td>\n",
       "    </tr>\n",
       "    <tr>\n",
       "      <th>1</th>\n",
       "      <td>152223</td>\n",
       "      <td>474900.0</td>\n",
       "      <td>2153-09-03 07:15:00</td>\n",
       "    </tr>\n",
       "    <tr>\n",
       "      <th>2</th>\n",
       "      <td>124321</td>\n",
       "      <td>584760.0</td>\n",
       "      <td>2157-10-18 19:34:00</td>\n",
       "    </tr>\n",
       "    <tr>\n",
       "      <th>3</th>\n",
       "      <td>161859</td>\n",
       "      <td>246840.0</td>\n",
       "      <td>2139-06-06 16:14:00</td>\n",
       "    </tr>\n",
       "    <tr>\n",
       "      <th>4</th>\n",
       "      <td>129635</td>\n",
       "      <td>305340.0</td>\n",
       "      <td>2160-11-02 02:06:00</td>\n",
       "    </tr>\n",
       "  </tbody>\n",
       "</table>\n",
       "</div>"
      ],
      "text/plain": [
       "   HADM_ID       los                time\n",
       "0   165315   98880.0 2196-04-09 12:26:00\n",
       "1   152223  474900.0 2153-09-03 07:15:00\n",
       "2   124321  584760.0 2157-10-18 19:34:00\n",
       "3   161859  246840.0 2139-06-06 16:14:00\n",
       "4   129635  305340.0 2160-11-02 02:06:00"
      ]
     },
     "execution_count": 32,
     "metadata": {},
     "output_type": "execute_result"
    }
   ],
   "source": [
    "ds = df_los[[\"HADM_ID\", \"los\", \"time\"]]\n",
    "ds.head()"
   ]
  },
  {
   "cell_type": "markdown",
   "metadata": {},
   "source": [
    "Get the number of events for each Hospital Admission"
   ]
  },
  {
   "cell_type": "code",
   "execution_count": 33,
   "metadata": {
    "scrolled": false
   },
   "outputs": [
    {
     "data": {
      "text/html": [
       "<div>\n",
       "<style scoped>\n",
       "    .dataframe tbody tr th:only-of-type {\n",
       "        vertical-align: middle;\n",
       "    }\n",
       "\n",
       "    .dataframe tbody tr th {\n",
       "        vertical-align: top;\n",
       "    }\n",
       "\n",
       "    .dataframe thead th {\n",
       "        text-align: right;\n",
       "    }\n",
       "</style>\n",
       "<table border=\"1\" class=\"dataframe\">\n",
       "  <thead>\n",
       "    <tr style=\"text-align: right;\">\n",
       "      <th></th>\n",
       "      <th>HADM_ID</th>\n",
       "      <th>ROW_ID</th>\n",
       "    </tr>\n",
       "  </thead>\n",
       "  <tbody>\n",
       "    <tr>\n",
       "      <th>0</th>\n",
       "      <td>100009</td>\n",
       "      <td>846</td>\n",
       "    </tr>\n",
       "    <tr>\n",
       "      <th>1</th>\n",
       "      <td>100473</td>\n",
       "      <td>206</td>\n",
       "    </tr>\n",
       "    <tr>\n",
       "      <th>2</th>\n",
       "      <td>100765</td>\n",
       "      <td>1372</td>\n",
       "    </tr>\n",
       "    <tr>\n",
       "      <th>3</th>\n",
       "      <td>100795</td>\n",
       "      <td>8544</td>\n",
       "    </tr>\n",
       "    <tr>\n",
       "      <th>4</th>\n",
       "      <td>100889</td>\n",
       "      <td>191</td>\n",
       "    </tr>\n",
       "  </tbody>\n",
       "</table>\n",
       "</div>"
      ],
      "text/plain": [
       "   HADM_ID  ROW_ID\n",
       "0   100009     846\n",
       "1   100473     206\n",
       "2   100765    1372\n",
       "3   100795    8544\n",
       "4   100889     191"
      ]
     },
     "execution_count": 33,
     "metadata": {},
     "output_type": "execute_result"
    }
   ],
   "source": [
    "events = df.groupby(\"HADM_ID\")[\"ROW_ID\"].count().compute().to_frame().reset_index();\n",
    "events.head()"
   ]
  },
  {
   "cell_type": "markdown",
   "metadata": {},
   "source": [
    "Join the number of events to our current dataset"
   ]
  },
  {
   "cell_type": "code",
   "execution_count": 34,
   "metadata": {},
   "outputs": [
    {
     "data": {
      "text/html": [
       "<div>\n",
       "<style scoped>\n",
       "    .dataframe tbody tr th:only-of-type {\n",
       "        vertical-align: middle;\n",
       "    }\n",
       "\n",
       "    .dataframe tbody tr th {\n",
       "        vertical-align: top;\n",
       "    }\n",
       "\n",
       "    .dataframe thead th {\n",
       "        text-align: right;\n",
       "    }\n",
       "</style>\n",
       "<table border=\"1\" class=\"dataframe\">\n",
       "  <thead>\n",
       "    <tr style=\"text-align: right;\">\n",
       "      <th></th>\n",
       "      <th>HADM_ID</th>\n",
       "      <th>los</th>\n",
       "      <th>time</th>\n",
       "      <th>events</th>\n",
       "    </tr>\n",
       "  </thead>\n",
       "  <tbody>\n",
       "    <tr>\n",
       "      <th>0</th>\n",
       "      <td>124321</td>\n",
       "      <td>584760.0</td>\n",
       "      <td>2157-10-18 19:34:00</td>\n",
       "      <td>320</td>\n",
       "    </tr>\n",
       "    <tr>\n",
       "      <th>1</th>\n",
       "      <td>144319</td>\n",
       "      <td>226620.0</td>\n",
       "      <td>2191-02-23 05:23:00</td>\n",
       "      <td>346</td>\n",
       "    </tr>\n",
       "    <tr>\n",
       "      <th>2</th>\n",
       "      <td>165660</td>\n",
       "      <td>870360.0</td>\n",
       "      <td>2134-05-10 11:30:00</td>\n",
       "      <td>1342</td>\n",
       "    </tr>\n",
       "    <tr>\n",
       "      <th>3</th>\n",
       "      <td>101651</td>\n",
       "      <td>278700.0</td>\n",
       "      <td>2199-10-20 12:05:00</td>\n",
       "      <td>248</td>\n",
       "    </tr>\n",
       "    <tr>\n",
       "      <th>4</th>\n",
       "      <td>117876</td>\n",
       "      <td>2380080.0</td>\n",
       "      <td>2199-12-21 22:37:00</td>\n",
       "      <td>4502</td>\n",
       "    </tr>\n",
       "  </tbody>\n",
       "</table>\n",
       "</div>"
      ],
      "text/plain": [
       "   HADM_ID        los                time  events\n",
       "0   124321   584760.0 2157-10-18 19:34:00     320\n",
       "1   144319   226620.0 2191-02-23 05:23:00     346\n",
       "2   165660   870360.0 2134-05-10 11:30:00    1342\n",
       "3   101651   278700.0 2199-10-20 12:05:00     248\n",
       "4   117876  2380080.0 2199-12-21 22:37:00    4502"
      ]
     },
     "execution_count": 34,
     "metadata": {},
     "output_type": "execute_result"
    }
   ],
   "source": [
    "t1 = dd.merge(ds, events, on=\"HADM_ID\")\n",
    "t1.columns=[\"HADM_ID\", \"los\", \"time\", \"events\"]\n",
    "t1.head()"
   ]
  },
  {
   "cell_type": "markdown",
   "metadata": {},
   "source": [
    "Get the subject id for each hospital admission (this is relevant as each patient can have more than one admission and we had no way of knowing that without this information)"
   ]
  },
  {
   "cell_type": "code",
   "execution_count": 35,
   "metadata": {},
   "outputs": [],
   "source": [
    "subs = df.groupby(\"HADM_ID\")[\"SUBJECT_ID\"].first().compute().to_frame().reset_index()"
   ]
  },
  {
   "cell_type": "code",
   "execution_count": 36,
   "metadata": {
    "scrolled": false
   },
   "outputs": [
    {
     "data": {
      "text/html": [
       "<div>\n",
       "<style scoped>\n",
       "    .dataframe tbody tr th:only-of-type {\n",
       "        vertical-align: middle;\n",
       "    }\n",
       "\n",
       "    .dataframe tbody tr th {\n",
       "        vertical-align: top;\n",
       "    }\n",
       "\n",
       "    .dataframe thead th {\n",
       "        text-align: right;\n",
       "    }\n",
       "</style>\n",
       "<table border=\"1\" class=\"dataframe\">\n",
       "  <thead>\n",
       "    <tr style=\"text-align: right;\">\n",
       "      <th></th>\n",
       "      <th>HADM_ID</th>\n",
       "      <th>SUBJECT_ID</th>\n",
       "      <th>time</th>\n",
       "      <th>events</th>\n",
       "      <th>los</th>\n",
       "    </tr>\n",
       "  </thead>\n",
       "  <tbody>\n",
       "    <tr>\n",
       "      <th>0</th>\n",
       "      <td>124321</td>\n",
       "      <td>23</td>\n",
       "      <td>2157-10-18 19:34:00</td>\n",
       "      <td>320</td>\n",
       "      <td>584760.0</td>\n",
       "    </tr>\n",
       "    <tr>\n",
       "      <th>1</th>\n",
       "      <td>144319</td>\n",
       "      <td>34</td>\n",
       "      <td>2191-02-23 05:23:00</td>\n",
       "      <td>346</td>\n",
       "      <td>226620.0</td>\n",
       "    </tr>\n",
       "    <tr>\n",
       "      <th>2</th>\n",
       "      <td>165660</td>\n",
       "      <td>36</td>\n",
       "      <td>2134-05-10 11:30:00</td>\n",
       "      <td>1342</td>\n",
       "      <td>870360.0</td>\n",
       "    </tr>\n",
       "    <tr>\n",
       "      <th>3</th>\n",
       "      <td>101651</td>\n",
       "      <td>357</td>\n",
       "      <td>2199-10-20 12:05:00</td>\n",
       "      <td>248</td>\n",
       "      <td>278700.0</td>\n",
       "    </tr>\n",
       "    <tr>\n",
       "      <th>4</th>\n",
       "      <td>117876</td>\n",
       "      <td>357</td>\n",
       "      <td>2199-12-21 22:37:00</td>\n",
       "      <td>4502</td>\n",
       "      <td>2380080.0</td>\n",
       "    </tr>\n",
       "  </tbody>\n",
       "</table>\n",
       "</div>"
      ],
      "text/plain": [
       "   HADM_ID  SUBJECT_ID                time  events        los\n",
       "0   124321          23 2157-10-18 19:34:00     320   584760.0\n",
       "1   144319          34 2191-02-23 05:23:00     346   226620.0\n",
       "2   165660          36 2134-05-10 11:30:00    1342   870360.0\n",
       "3   101651         357 2199-10-20 12:05:00     248   278700.0\n",
       "4   117876         357 2199-12-21 22:37:00    4502  2380080.0"
      ]
     },
     "execution_count": 36,
     "metadata": {},
     "output_type": "execute_result"
    }
   ],
   "source": [
    "t2 = dd.merge(t1, subs, on=\"HADM_ID\")\n",
    "t2 = t2[[\"HADM_ID\", \"SUBJECT_ID\", \"time\", \"events\", \"los\"]]\n",
    "t2.head()"
   ]
  },
  {
   "cell_type": "markdown",
   "metadata": {},
   "source": [
    "Get a list of all the caregivers for each hospital admission and turn them into binary features"
   ]
  },
  {
   "cell_type": "code",
   "execution_count": 37,
   "metadata": {},
   "outputs": [
    {
     "data": {
      "text/html": [
       "<div>\n",
       "<style scoped>\n",
       "    .dataframe tbody tr th:only-of-type {\n",
       "        vertical-align: middle;\n",
       "    }\n",
       "\n",
       "    .dataframe tbody tr th {\n",
       "        vertical-align: top;\n",
       "    }\n",
       "\n",
       "    .dataframe thead th {\n",
       "        text-align: right;\n",
       "    }\n",
       "</style>\n",
       "<table border=\"1\" class=\"dataframe\">\n",
       "  <thead>\n",
       "    <tr style=\"text-align: right;\">\n",
       "      <th></th>\n",
       "      <th>HADM_ID</th>\n",
       "      <th>cgids</th>\n",
       "    </tr>\n",
       "  </thead>\n",
       "  <tbody>\n",
       "    <tr>\n",
       "      <th>0</th>\n",
       "      <td>100068</td>\n",
       "      <td>{14913, 21025, 17473, 18787, 20070, 17130, 154...</td>\n",
       "    </tr>\n",
       "    <tr>\n",
       "      <th>1</th>\n",
       "      <td>100250</td>\n",
       "      <td>{15040, 17744, 18928, 15440, 20889, 15834}</td>\n",
       "    </tr>\n",
       "    <tr>\n",
       "      <th>2</th>\n",
       "      <td>100265</td>\n",
       "      <td>{17873, 16866, 19742, 20889}</td>\n",
       "    </tr>\n",
       "    <tr>\n",
       "      <th>3</th>\n",
       "      <td>100269</td>\n",
       "      <td>{20889}</td>\n",
       "    </tr>\n",
       "    <tr>\n",
       "      <th>4</th>\n",
       "      <td>100391</td>\n",
       "      <td>{18722, 17250, 16171, 19085, 16302, 19152, 208...</td>\n",
       "    </tr>\n",
       "  </tbody>\n",
       "</table>\n",
       "</div>"
      ],
      "text/plain": [
       "   HADM_ID                                              cgids\n",
       "0   100068  {14913, 21025, 17473, 18787, 20070, 17130, 154...\n",
       "1   100250         {15040, 17744, 18928, 15440, 20889, 15834}\n",
       "2   100265                       {17873, 16866, 19742, 20889}\n",
       "3   100269                                            {20889}\n",
       "4   100391  {18722, 17250, 16171, 19085, 16302, 19152, 208..."
      ]
     },
     "execution_count": 37,
     "metadata": {},
     "output_type": "execute_result"
    }
   ],
   "source": [
    "cg = df.groupby(\"HADM_ID\")[\"CGID\"].apply(set, meta=(\"Int64\")).compute().to_frame().reset_index()\n",
    "cg.columns = [\"HADM_ID\", \"cgids\"]\n",
    "cg['cgids'] = cg['cgids'].astype(str)\n",
    "cg.head()"
   ]
  },
  {
   "cell_type": "code",
   "execution_count": 38,
   "metadata": {},
   "outputs": [
    {
     "data": {
      "text/html": [
       "<div>\n",
       "<style scoped>\n",
       "    .dataframe tbody tr th:only-of-type {\n",
       "        vertical-align: middle;\n",
       "    }\n",
       "\n",
       "    .dataframe tbody tr th {\n",
       "        vertical-align: top;\n",
       "    }\n",
       "\n",
       "    .dataframe thead th {\n",
       "        text-align: right;\n",
       "    }\n",
       "</style>\n",
       "<table border=\"1\" class=\"dataframe\">\n",
       "  <thead>\n",
       "    <tr style=\"text-align: right;\">\n",
       "      <th></th>\n",
       "      <th>14010</th>\n",
       "      <th>14023</th>\n",
       "      <th>14033</th>\n",
       "      <th>14037</th>\n",
       "      <th>14045</th>\n",
       "      <th>14056</th>\n",
       "      <th>14084</th>\n",
       "      <th>14094</th>\n",
       "      <th>14103</th>\n",
       "      <th>14105</th>\n",
       "      <th>...</th>\n",
       "      <th>21473</th>\n",
       "      <th>21476</th>\n",
       "      <th>21478</th>\n",
       "      <th>21484</th>\n",
       "      <th>21488</th>\n",
       "      <th>21492</th>\n",
       "      <th>21499</th>\n",
       "      <th>21521</th>\n",
       "      <th>21545</th>\n",
       "      <th>nan</th>\n",
       "    </tr>\n",
       "  </thead>\n",
       "  <tbody>\n",
       "    <tr>\n",
       "      <th>0</th>\n",
       "      <td>0</td>\n",
       "      <td>0</td>\n",
       "      <td>0</td>\n",
       "      <td>0</td>\n",
       "      <td>0</td>\n",
       "      <td>0</td>\n",
       "      <td>0</td>\n",
       "      <td>0</td>\n",
       "      <td>0</td>\n",
       "      <td>0</td>\n",
       "      <td>...</td>\n",
       "      <td>0</td>\n",
       "      <td>0</td>\n",
       "      <td>0</td>\n",
       "      <td>0</td>\n",
       "      <td>0</td>\n",
       "      <td>0</td>\n",
       "      <td>0</td>\n",
       "      <td>0</td>\n",
       "      <td>0</td>\n",
       "      <td>0</td>\n",
       "    </tr>\n",
       "    <tr>\n",
       "      <th>1</th>\n",
       "      <td>0</td>\n",
       "      <td>0</td>\n",
       "      <td>0</td>\n",
       "      <td>0</td>\n",
       "      <td>0</td>\n",
       "      <td>0</td>\n",
       "      <td>0</td>\n",
       "      <td>0</td>\n",
       "      <td>0</td>\n",
       "      <td>0</td>\n",
       "      <td>...</td>\n",
       "      <td>0</td>\n",
       "      <td>0</td>\n",
       "      <td>0</td>\n",
       "      <td>0</td>\n",
       "      <td>0</td>\n",
       "      <td>0</td>\n",
       "      <td>0</td>\n",
       "      <td>0</td>\n",
       "      <td>0</td>\n",
       "      <td>0</td>\n",
       "    </tr>\n",
       "    <tr>\n",
       "      <th>2</th>\n",
       "      <td>0</td>\n",
       "      <td>0</td>\n",
       "      <td>0</td>\n",
       "      <td>0</td>\n",
       "      <td>0</td>\n",
       "      <td>0</td>\n",
       "      <td>0</td>\n",
       "      <td>0</td>\n",
       "      <td>0</td>\n",
       "      <td>0</td>\n",
       "      <td>...</td>\n",
       "      <td>0</td>\n",
       "      <td>0</td>\n",
       "      <td>0</td>\n",
       "      <td>0</td>\n",
       "      <td>0</td>\n",
       "      <td>0</td>\n",
       "      <td>0</td>\n",
       "      <td>0</td>\n",
       "      <td>0</td>\n",
       "      <td>0</td>\n",
       "    </tr>\n",
       "    <tr>\n",
       "      <th>3</th>\n",
       "      <td>0</td>\n",
       "      <td>0</td>\n",
       "      <td>0</td>\n",
       "      <td>0</td>\n",
       "      <td>0</td>\n",
       "      <td>0</td>\n",
       "      <td>0</td>\n",
       "      <td>0</td>\n",
       "      <td>0</td>\n",
       "      <td>0</td>\n",
       "      <td>...</td>\n",
       "      <td>0</td>\n",
       "      <td>0</td>\n",
       "      <td>0</td>\n",
       "      <td>0</td>\n",
       "      <td>0</td>\n",
       "      <td>0</td>\n",
       "      <td>0</td>\n",
       "      <td>0</td>\n",
       "      <td>0</td>\n",
       "      <td>0</td>\n",
       "    </tr>\n",
       "    <tr>\n",
       "      <th>4</th>\n",
       "      <td>0</td>\n",
       "      <td>0</td>\n",
       "      <td>0</td>\n",
       "      <td>0</td>\n",
       "      <td>0</td>\n",
       "      <td>0</td>\n",
       "      <td>0</td>\n",
       "      <td>0</td>\n",
       "      <td>0</td>\n",
       "      <td>0</td>\n",
       "      <td>...</td>\n",
       "      <td>0</td>\n",
       "      <td>0</td>\n",
       "      <td>0</td>\n",
       "      <td>0</td>\n",
       "      <td>0</td>\n",
       "      <td>0</td>\n",
       "      <td>0</td>\n",
       "      <td>0</td>\n",
       "      <td>0</td>\n",
       "      <td>0</td>\n",
       "    </tr>\n",
       "  </tbody>\n",
       "</table>\n",
       "<p>5 rows × 987 columns</p>\n",
       "</div>"
      ],
      "text/plain": [
       "   14010  14023  14033  14037  14045  14056  14084  14094  14103  14105  ...  \\\n",
       "0      0      0      0      0      0      0      0      0      0      0  ...   \n",
       "1      0      0      0      0      0      0      0      0      0      0  ...   \n",
       "2      0      0      0      0      0      0      0      0      0      0  ...   \n",
       "3      0      0      0      0      0      0      0      0      0      0  ...   \n",
       "4      0      0      0      0      0      0      0      0      0      0  ...   \n",
       "\n",
       "   21473  21476  21478  21484  21488  21492  21499  21521  21545  nan  \n",
       "0      0      0      0      0      0      0      0      0      0    0  \n",
       "1      0      0      0      0      0      0      0      0      0    0  \n",
       "2      0      0      0      0      0      0      0      0      0    0  \n",
       "3      0      0      0      0      0      0      0      0      0    0  \n",
       "4      0      0      0      0      0      0      0      0      0    0  \n",
       "\n",
       "[5 rows x 987 columns]"
      ]
     },
     "execution_count": 38,
     "metadata": {},
     "output_type": "execute_result"
    }
   ],
   "source": [
    "features = cg[\"cgids\"].str.replace(' ','').str.replace('{','').str.replace('}','').str.get_dummies(sep=',')\n",
    "features.head()"
   ]
  },
  {
   "cell_type": "code",
   "execution_count": 39,
   "metadata": {},
   "outputs": [
    {
     "data": {
      "text/html": [
       "<div>\n",
       "<style scoped>\n",
       "    .dataframe tbody tr th:only-of-type {\n",
       "        vertical-align: middle;\n",
       "    }\n",
       "\n",
       "    .dataframe tbody tr th {\n",
       "        vertical-align: top;\n",
       "    }\n",
       "\n",
       "    .dataframe thead th {\n",
       "        text-align: right;\n",
       "    }\n",
       "</style>\n",
       "<table border=\"1\" class=\"dataframe\">\n",
       "  <thead>\n",
       "    <tr style=\"text-align: right;\">\n",
       "      <th></th>\n",
       "      <th>HADM_ID</th>\n",
       "      <th>SUBJECT_ID</th>\n",
       "      <th>time</th>\n",
       "      <th>events</th>\n",
       "      <th>14010</th>\n",
       "      <th>14023</th>\n",
       "      <th>14033</th>\n",
       "      <th>14037</th>\n",
       "      <th>14045</th>\n",
       "      <th>14056</th>\n",
       "      <th>...</th>\n",
       "      <th>21473</th>\n",
       "      <th>21476</th>\n",
       "      <th>21478</th>\n",
       "      <th>21484</th>\n",
       "      <th>21488</th>\n",
       "      <th>21492</th>\n",
       "      <th>21499</th>\n",
       "      <th>21521</th>\n",
       "      <th>21545</th>\n",
       "      <th>los</th>\n",
       "    </tr>\n",
       "  </thead>\n",
       "  <tbody>\n",
       "    <tr>\n",
       "      <th>0</th>\n",
       "      <td>124321</td>\n",
       "      <td>23</td>\n",
       "      <td>2157-10-18 19:34:00</td>\n",
       "      <td>320</td>\n",
       "      <td>0</td>\n",
       "      <td>0</td>\n",
       "      <td>0</td>\n",
       "      <td>0</td>\n",
       "      <td>0</td>\n",
       "      <td>0</td>\n",
       "      <td>...</td>\n",
       "      <td>0</td>\n",
       "      <td>0</td>\n",
       "      <td>0</td>\n",
       "      <td>0</td>\n",
       "      <td>0</td>\n",
       "      <td>0</td>\n",
       "      <td>0</td>\n",
       "      <td>0</td>\n",
       "      <td>0</td>\n",
       "      <td>584760.0</td>\n",
       "    </tr>\n",
       "    <tr>\n",
       "      <th>1</th>\n",
       "      <td>144319</td>\n",
       "      <td>34</td>\n",
       "      <td>2191-02-23 05:23:00</td>\n",
       "      <td>346</td>\n",
       "      <td>0</td>\n",
       "      <td>0</td>\n",
       "      <td>0</td>\n",
       "      <td>0</td>\n",
       "      <td>0</td>\n",
       "      <td>0</td>\n",
       "      <td>...</td>\n",
       "      <td>0</td>\n",
       "      <td>0</td>\n",
       "      <td>0</td>\n",
       "      <td>0</td>\n",
       "      <td>0</td>\n",
       "      <td>0</td>\n",
       "      <td>0</td>\n",
       "      <td>0</td>\n",
       "      <td>0</td>\n",
       "      <td>226620.0</td>\n",
       "    </tr>\n",
       "    <tr>\n",
       "      <th>2</th>\n",
       "      <td>165660</td>\n",
       "      <td>36</td>\n",
       "      <td>2134-05-10 11:30:00</td>\n",
       "      <td>1342</td>\n",
       "      <td>0</td>\n",
       "      <td>0</td>\n",
       "      <td>0</td>\n",
       "      <td>0</td>\n",
       "      <td>0</td>\n",
       "      <td>0</td>\n",
       "      <td>...</td>\n",
       "      <td>0</td>\n",
       "      <td>0</td>\n",
       "      <td>0</td>\n",
       "      <td>0</td>\n",
       "      <td>0</td>\n",
       "      <td>0</td>\n",
       "      <td>0</td>\n",
       "      <td>0</td>\n",
       "      <td>0</td>\n",
       "      <td>870360.0</td>\n",
       "    </tr>\n",
       "    <tr>\n",
       "      <th>3</th>\n",
       "      <td>101651</td>\n",
       "      <td>357</td>\n",
       "      <td>2199-10-20 12:05:00</td>\n",
       "      <td>248</td>\n",
       "      <td>0</td>\n",
       "      <td>0</td>\n",
       "      <td>0</td>\n",
       "      <td>0</td>\n",
       "      <td>0</td>\n",
       "      <td>0</td>\n",
       "      <td>...</td>\n",
       "      <td>0</td>\n",
       "      <td>0</td>\n",
       "      <td>0</td>\n",
       "      <td>0</td>\n",
       "      <td>0</td>\n",
       "      <td>0</td>\n",
       "      <td>0</td>\n",
       "      <td>0</td>\n",
       "      <td>0</td>\n",
       "      <td>278700.0</td>\n",
       "    </tr>\n",
       "    <tr>\n",
       "      <th>4</th>\n",
       "      <td>117876</td>\n",
       "      <td>357</td>\n",
       "      <td>2199-12-21 22:37:00</td>\n",
       "      <td>4502</td>\n",
       "      <td>0</td>\n",
       "      <td>0</td>\n",
       "      <td>0</td>\n",
       "      <td>0</td>\n",
       "      <td>0</td>\n",
       "      <td>0</td>\n",
       "      <td>...</td>\n",
       "      <td>0</td>\n",
       "      <td>0</td>\n",
       "      <td>0</td>\n",
       "      <td>0</td>\n",
       "      <td>0</td>\n",
       "      <td>0</td>\n",
       "      <td>0</td>\n",
       "      <td>0</td>\n",
       "      <td>0</td>\n",
       "      <td>2380080.0</td>\n",
       "    </tr>\n",
       "  </tbody>\n",
       "</table>\n",
       "<p>5 rows × 991 columns</p>\n",
       "</div>"
      ],
      "text/plain": [
       "   HADM_ID  SUBJECT_ID                time  events  14010  14023  14033  \\\n",
       "0   124321          23 2157-10-18 19:34:00     320      0      0      0   \n",
       "1   144319          34 2191-02-23 05:23:00     346      0      0      0   \n",
       "2   165660          36 2134-05-10 11:30:00    1342      0      0      0   \n",
       "3   101651         357 2199-10-20 12:05:00     248      0      0      0   \n",
       "4   117876         357 2199-12-21 22:37:00    4502      0      0      0   \n",
       "\n",
       "   14037  14045  14056  ...  21473  21476  21478  21484  21488  21492  21499  \\\n",
       "0      0      0      0  ...      0      0      0      0      0      0      0   \n",
       "1      0      0      0  ...      0      0      0      0      0      0      0   \n",
       "2      0      0      0  ...      0      0      0      0      0      0      0   \n",
       "3      0      0      0  ...      0      0      0      0      0      0      0   \n",
       "4      0      0      0  ...      0      0      0      0      0      0      0   \n",
       "\n",
       "   21521  21545        los  \n",
       "0      0      0   584760.0  \n",
       "1      0      0   226620.0  \n",
       "2      0      0   870360.0  \n",
       "3      0      0   278700.0  \n",
       "4      0      0  2380080.0  \n",
       "\n",
       "[5 rows x 991 columns]"
      ]
     },
     "execution_count": 39,
     "metadata": {},
     "output_type": "execute_result"
    }
   ],
   "source": [
    "t3 = dd.merge(left=t2, right=features)\n",
    "t3 = t3[[c for c in t3 if c not in [\"nan\", \"los\"]] + [\"los\"]]\n",
    "t3.head()"
   ]
  },
  {
   "cell_type": "markdown",
   "metadata": {},
   "source": [
    "Convert to new `dataset`variable and sort by ascending time"
   ]
  },
  {
   "cell_type": "code",
   "execution_count": 40,
   "metadata": {},
   "outputs": [
    {
     "data": {
      "text/html": [
       "<div>\n",
       "<style scoped>\n",
       "    .dataframe tbody tr th:only-of-type {\n",
       "        vertical-align: middle;\n",
       "    }\n",
       "\n",
       "    .dataframe tbody tr th {\n",
       "        vertical-align: top;\n",
       "    }\n",
       "\n",
       "    .dataframe thead th {\n",
       "        text-align: right;\n",
       "    }\n",
       "</style>\n",
       "<table border=\"1\" class=\"dataframe\">\n",
       "  <thead>\n",
       "    <tr style=\"text-align: right;\">\n",
       "      <th></th>\n",
       "      <th>HADM_ID</th>\n",
       "      <th>SUBJECT_ID</th>\n",
       "      <th>time</th>\n",
       "      <th>events</th>\n",
       "      <th>14010</th>\n",
       "      <th>14023</th>\n",
       "      <th>14033</th>\n",
       "      <th>14037</th>\n",
       "      <th>14045</th>\n",
       "      <th>14056</th>\n",
       "      <th>...</th>\n",
       "      <th>21473</th>\n",
       "      <th>21476</th>\n",
       "      <th>21478</th>\n",
       "      <th>21484</th>\n",
       "      <th>21488</th>\n",
       "      <th>21492</th>\n",
       "      <th>21499</th>\n",
       "      <th>21521</th>\n",
       "      <th>21545</th>\n",
       "      <th>los</th>\n",
       "    </tr>\n",
       "  </thead>\n",
       "  <tbody>\n",
       "    <tr>\n",
       "      <th>4875</th>\n",
       "      <td>125380</td>\n",
       "      <td>31585</td>\n",
       "      <td>2100-07-02 19:28:00</td>\n",
       "      <td>243</td>\n",
       "      <td>0</td>\n",
       "      <td>0</td>\n",
       "      <td>0</td>\n",
       "      <td>0</td>\n",
       "      <td>0</td>\n",
       "      <td>0</td>\n",
       "      <td>...</td>\n",
       "      <td>0</td>\n",
       "      <td>0</td>\n",
       "      <td>0</td>\n",
       "      <td>0</td>\n",
       "      <td>0</td>\n",
       "      <td>0</td>\n",
       "      <td>0</td>\n",
       "      <td>0</td>\n",
       "      <td>0</td>\n",
       "      <td>427020.0</td>\n",
       "    </tr>\n",
       "    <tr>\n",
       "      <th>7247</th>\n",
       "      <td>120254</td>\n",
       "      <td>41552</td>\n",
       "      <td>2100-07-05 13:52:00</td>\n",
       "      <td>238</td>\n",
       "      <td>0</td>\n",
       "      <td>0</td>\n",
       "      <td>0</td>\n",
       "      <td>0</td>\n",
       "      <td>0</td>\n",
       "      <td>0</td>\n",
       "      <td>...</td>\n",
       "      <td>0</td>\n",
       "      <td>0</td>\n",
       "      <td>0</td>\n",
       "      <td>0</td>\n",
       "      <td>0</td>\n",
       "      <td>0</td>\n",
       "      <td>0</td>\n",
       "      <td>0</td>\n",
       "      <td>0</td>\n",
       "      <td>265980.0</td>\n",
       "    </tr>\n",
       "    <tr>\n",
       "      <th>5653</th>\n",
       "      <td>113129</td>\n",
       "      <td>42357</td>\n",
       "      <td>2100-07-14 02:04:00</td>\n",
       "      <td>365</td>\n",
       "      <td>0</td>\n",
       "      <td>0</td>\n",
       "      <td>0</td>\n",
       "      <td>0</td>\n",
       "      <td>0</td>\n",
       "      <td>0</td>\n",
       "      <td>...</td>\n",
       "      <td>0</td>\n",
       "      <td>0</td>\n",
       "      <td>0</td>\n",
       "      <td>0</td>\n",
       "      <td>0</td>\n",
       "      <td>0</td>\n",
       "      <td>0</td>\n",
       "      <td>0</td>\n",
       "      <td>0</td>\n",
       "      <td>390060.0</td>\n",
       "    </tr>\n",
       "    <tr>\n",
       "      <th>3721</th>\n",
       "      <td>136246</td>\n",
       "      <td>31288</td>\n",
       "      <td>2100-07-16 11:29:00</td>\n",
       "      <td>269</td>\n",
       "      <td>0</td>\n",
       "      <td>0</td>\n",
       "      <td>0</td>\n",
       "      <td>0</td>\n",
       "      <td>0</td>\n",
       "      <td>0</td>\n",
       "      <td>...</td>\n",
       "      <td>0</td>\n",
       "      <td>0</td>\n",
       "      <td>0</td>\n",
       "      <td>0</td>\n",
       "      <td>0</td>\n",
       "      <td>0</td>\n",
       "      <td>0</td>\n",
       "      <td>0</td>\n",
       "      <td>0</td>\n",
       "      <td>541860.0</td>\n",
       "    </tr>\n",
       "    <tr>\n",
       "      <th>3433</th>\n",
       "      <td>198779</td>\n",
       "      <td>31263</td>\n",
       "      <td>2100-07-18 23:51:00</td>\n",
       "      <td>1152</td>\n",
       "      <td>0</td>\n",
       "      <td>0</td>\n",
       "      <td>0</td>\n",
       "      <td>0</td>\n",
       "      <td>0</td>\n",
       "      <td>0</td>\n",
       "      <td>...</td>\n",
       "      <td>0</td>\n",
       "      <td>0</td>\n",
       "      <td>0</td>\n",
       "      <td>0</td>\n",
       "      <td>0</td>\n",
       "      <td>0</td>\n",
       "      <td>0</td>\n",
       "      <td>0</td>\n",
       "      <td>0</td>\n",
       "      <td>738180.0</td>\n",
       "    </tr>\n",
       "  </tbody>\n",
       "</table>\n",
       "<p>5 rows × 991 columns</p>\n",
       "</div>"
      ],
      "text/plain": [
       "      HADM_ID  SUBJECT_ID                time  events  14010  14023  14033  \\\n",
       "4875   125380       31585 2100-07-02 19:28:00     243      0      0      0   \n",
       "7247   120254       41552 2100-07-05 13:52:00     238      0      0      0   \n",
       "5653   113129       42357 2100-07-14 02:04:00     365      0      0      0   \n",
       "3721   136246       31288 2100-07-16 11:29:00     269      0      0      0   \n",
       "3433   198779       31263 2100-07-18 23:51:00    1152      0      0      0   \n",
       "\n",
       "      14037  14045  14056  ...  21473  21476  21478  21484  21488  21492  \\\n",
       "4875      0      0      0  ...      0      0      0      0      0      0   \n",
       "7247      0      0      0  ...      0      0      0      0      0      0   \n",
       "5653      0      0      0  ...      0      0      0      0      0      0   \n",
       "3721      0      0      0  ...      0      0      0      0      0      0   \n",
       "3433      0      0      0  ...      0      0      0      0      0      0   \n",
       "\n",
       "      21499  21521  21545       los  \n",
       "4875      0      0      0  427020.0  \n",
       "7247      0      0      0  265980.0  \n",
       "5653      0      0      0  390060.0  \n",
       "3721      0      0      0  541860.0  \n",
       "3433      0      0      0  738180.0  \n",
       "\n",
       "[5 rows x 991 columns]"
      ]
     },
     "execution_count": 40,
     "metadata": {},
     "output_type": "execute_result"
    }
   ],
   "source": [
    "dataset = t3.sort_values(\"time\")\n",
    "dataset.head()"
   ]
  },
  {
   "cell_type": "markdown",
   "metadata": {},
   "source": [
    "Normalize the events to be in the `[0, 1]` range"
   ]
  },
  {
   "cell_type": "code",
   "execution_count": 41,
   "metadata": {},
   "outputs": [],
   "source": [
    "from dask_ml.preprocessing import MinMaxScaler"
   ]
  },
  {
   "cell_type": "code",
   "execution_count": 42,
   "metadata": {},
   "outputs": [],
   "source": [
    "scaler = MinMaxScaler(feature_range=(0, 1))\n",
    "dataset[\"events\"] = scaler.fit_transform(dataset[[\"events\"]])"
   ]
  },
  {
   "cell_type": "code",
   "execution_count": 43,
   "metadata": {
    "scrolled": true
   },
   "outputs": [
    {
     "data": {
      "text/html": [
       "<div>\n",
       "<style scoped>\n",
       "    .dataframe tbody tr th:only-of-type {\n",
       "        vertical-align: middle;\n",
       "    }\n",
       "\n",
       "    .dataframe tbody tr th {\n",
       "        vertical-align: top;\n",
       "    }\n",
       "\n",
       "    .dataframe thead th {\n",
       "        text-align: right;\n",
       "    }\n",
       "</style>\n",
       "<table border=\"1\" class=\"dataframe\">\n",
       "  <thead>\n",
       "    <tr style=\"text-align: right;\">\n",
       "      <th></th>\n",
       "      <th>HADM_ID</th>\n",
       "      <th>SUBJECT_ID</th>\n",
       "      <th>time</th>\n",
       "      <th>events</th>\n",
       "      <th>14010</th>\n",
       "      <th>14023</th>\n",
       "      <th>14033</th>\n",
       "      <th>14037</th>\n",
       "      <th>14045</th>\n",
       "      <th>14056</th>\n",
       "      <th>...</th>\n",
       "      <th>21473</th>\n",
       "      <th>21476</th>\n",
       "      <th>21478</th>\n",
       "      <th>21484</th>\n",
       "      <th>21488</th>\n",
       "      <th>21492</th>\n",
       "      <th>21499</th>\n",
       "      <th>21521</th>\n",
       "      <th>21545</th>\n",
       "      <th>los</th>\n",
       "    </tr>\n",
       "  </thead>\n",
       "  <tbody>\n",
       "    <tr>\n",
       "      <th>4875</th>\n",
       "      <td>125380</td>\n",
       "      <td>31585</td>\n",
       "      <td>2100-07-02 19:28:00</td>\n",
       "      <td>0.000558</td>\n",
       "      <td>0</td>\n",
       "      <td>0</td>\n",
       "      <td>0</td>\n",
       "      <td>0</td>\n",
       "      <td>0</td>\n",
       "      <td>0</td>\n",
       "      <td>...</td>\n",
       "      <td>0</td>\n",
       "      <td>0</td>\n",
       "      <td>0</td>\n",
       "      <td>0</td>\n",
       "      <td>0</td>\n",
       "      <td>0</td>\n",
       "      <td>0</td>\n",
       "      <td>0</td>\n",
       "      <td>0</td>\n",
       "      <td>427020.0</td>\n",
       "    </tr>\n",
       "    <tr>\n",
       "      <th>7247</th>\n",
       "      <td>120254</td>\n",
       "      <td>41552</td>\n",
       "      <td>2100-07-05 13:52:00</td>\n",
       "      <td>0.000546</td>\n",
       "      <td>0</td>\n",
       "      <td>0</td>\n",
       "      <td>0</td>\n",
       "      <td>0</td>\n",
       "      <td>0</td>\n",
       "      <td>0</td>\n",
       "      <td>...</td>\n",
       "      <td>0</td>\n",
       "      <td>0</td>\n",
       "      <td>0</td>\n",
       "      <td>0</td>\n",
       "      <td>0</td>\n",
       "      <td>0</td>\n",
       "      <td>0</td>\n",
       "      <td>0</td>\n",
       "      <td>0</td>\n",
       "      <td>265980.0</td>\n",
       "    </tr>\n",
       "    <tr>\n",
       "      <th>5653</th>\n",
       "      <td>113129</td>\n",
       "      <td>42357</td>\n",
       "      <td>2100-07-14 02:04:00</td>\n",
       "      <td>0.000839</td>\n",
       "      <td>0</td>\n",
       "      <td>0</td>\n",
       "      <td>0</td>\n",
       "      <td>0</td>\n",
       "      <td>0</td>\n",
       "      <td>0</td>\n",
       "      <td>...</td>\n",
       "      <td>0</td>\n",
       "      <td>0</td>\n",
       "      <td>0</td>\n",
       "      <td>0</td>\n",
       "      <td>0</td>\n",
       "      <td>0</td>\n",
       "      <td>0</td>\n",
       "      <td>0</td>\n",
       "      <td>0</td>\n",
       "      <td>390060.0</td>\n",
       "    </tr>\n",
       "    <tr>\n",
       "      <th>3721</th>\n",
       "      <td>136246</td>\n",
       "      <td>31288</td>\n",
       "      <td>2100-07-16 11:29:00</td>\n",
       "      <td>0.000618</td>\n",
       "      <td>0</td>\n",
       "      <td>0</td>\n",
       "      <td>0</td>\n",
       "      <td>0</td>\n",
       "      <td>0</td>\n",
       "      <td>0</td>\n",
       "      <td>...</td>\n",
       "      <td>0</td>\n",
       "      <td>0</td>\n",
       "      <td>0</td>\n",
       "      <td>0</td>\n",
       "      <td>0</td>\n",
       "      <td>0</td>\n",
       "      <td>0</td>\n",
       "      <td>0</td>\n",
       "      <td>0</td>\n",
       "      <td>541860.0</td>\n",
       "    </tr>\n",
       "    <tr>\n",
       "      <th>3433</th>\n",
       "      <td>198779</td>\n",
       "      <td>31263</td>\n",
       "      <td>2100-07-18 23:51:00</td>\n",
       "      <td>0.002653</td>\n",
       "      <td>0</td>\n",
       "      <td>0</td>\n",
       "      <td>0</td>\n",
       "      <td>0</td>\n",
       "      <td>0</td>\n",
       "      <td>0</td>\n",
       "      <td>...</td>\n",
       "      <td>0</td>\n",
       "      <td>0</td>\n",
       "      <td>0</td>\n",
       "      <td>0</td>\n",
       "      <td>0</td>\n",
       "      <td>0</td>\n",
       "      <td>0</td>\n",
       "      <td>0</td>\n",
       "      <td>0</td>\n",
       "      <td>738180.0</td>\n",
       "    </tr>\n",
       "  </tbody>\n",
       "</table>\n",
       "<p>5 rows × 991 columns</p>\n",
       "</div>"
      ],
      "text/plain": [
       "      HADM_ID  SUBJECT_ID                time    events  14010  14023  14033  \\\n",
       "4875   125380       31585 2100-07-02 19:28:00  0.000558      0      0      0   \n",
       "7247   120254       41552 2100-07-05 13:52:00  0.000546      0      0      0   \n",
       "5653   113129       42357 2100-07-14 02:04:00  0.000839      0      0      0   \n",
       "3721   136246       31288 2100-07-16 11:29:00  0.000618      0      0      0   \n",
       "3433   198779       31263 2100-07-18 23:51:00  0.002653      0      0      0   \n",
       "\n",
       "      14037  14045  14056  ...  21473  21476  21478  21484  21488  21492  \\\n",
       "4875      0      0      0  ...      0      0      0      0      0      0   \n",
       "7247      0      0      0  ...      0      0      0      0      0      0   \n",
       "5653      0      0      0  ...      0      0      0      0      0      0   \n",
       "3721      0      0      0  ...      0      0      0      0      0      0   \n",
       "3433      0      0      0  ...      0      0      0      0      0      0   \n",
       "\n",
       "      21499  21521  21545       los  \n",
       "4875      0      0      0  427020.0  \n",
       "7247      0      0      0  265980.0  \n",
       "5653      0      0      0  390060.0  \n",
       "3721      0      0      0  541860.0  \n",
       "3433      0      0      0  738180.0  \n",
       "\n",
       "[5 rows x 991 columns]"
      ]
     },
     "execution_count": 43,
     "metadata": {},
     "output_type": "execute_result"
    }
   ],
   "source": [
    "dataset.head()"
   ]
  },
  {
   "cell_type": "markdown",
   "metadata": {},
   "source": [
    "Remove constant columns from the dataset, as not doing this will trigger an error in most regression algorithms we use bellow."
   ]
  },
  {
   "cell_type": "code",
   "execution_count": 44,
   "metadata": {},
   "outputs": [],
   "source": [
    "dataset = dataset.loc[:, (dataset != dataset.iloc[0]).any()]"
   ]
  },
  {
   "cell_type": "code",
   "execution_count": 45,
   "metadata": {},
   "outputs": [],
   "source": [
    "del dataset[\"time\"]"
   ]
  },
  {
   "cell_type": "code",
   "execution_count": 46,
   "metadata": {},
   "outputs": [
    {
     "data": {
      "text/html": [
       "<div>\n",
       "<style scoped>\n",
       "    .dataframe tbody tr th:only-of-type {\n",
       "        vertical-align: middle;\n",
       "    }\n",
       "\n",
       "    .dataframe tbody tr th {\n",
       "        vertical-align: top;\n",
       "    }\n",
       "\n",
       "    .dataframe thead th {\n",
       "        text-align: right;\n",
       "    }\n",
       "</style>\n",
       "<table border=\"1\" class=\"dataframe\">\n",
       "  <thead>\n",
       "    <tr style=\"text-align: right;\">\n",
       "      <th></th>\n",
       "      <th>HADM_ID</th>\n",
       "      <th>SUBJECT_ID</th>\n",
       "      <th>events</th>\n",
       "      <th>14010</th>\n",
       "      <th>14023</th>\n",
       "      <th>14033</th>\n",
       "      <th>14037</th>\n",
       "      <th>14045</th>\n",
       "      <th>14056</th>\n",
       "      <th>14084</th>\n",
       "      <th>...</th>\n",
       "      <th>21473</th>\n",
       "      <th>21476</th>\n",
       "      <th>21478</th>\n",
       "      <th>21484</th>\n",
       "      <th>21488</th>\n",
       "      <th>21492</th>\n",
       "      <th>21499</th>\n",
       "      <th>21521</th>\n",
       "      <th>21545</th>\n",
       "      <th>los</th>\n",
       "    </tr>\n",
       "  </thead>\n",
       "  <tbody>\n",
       "    <tr>\n",
       "      <th>4875</th>\n",
       "      <td>125380</td>\n",
       "      <td>31585</td>\n",
       "      <td>0.000558</td>\n",
       "      <td>0</td>\n",
       "      <td>0</td>\n",
       "      <td>0</td>\n",
       "      <td>0</td>\n",
       "      <td>0</td>\n",
       "      <td>0</td>\n",
       "      <td>0</td>\n",
       "      <td>...</td>\n",
       "      <td>0</td>\n",
       "      <td>0</td>\n",
       "      <td>0</td>\n",
       "      <td>0</td>\n",
       "      <td>0</td>\n",
       "      <td>0</td>\n",
       "      <td>0</td>\n",
       "      <td>0</td>\n",
       "      <td>0</td>\n",
       "      <td>427020.0</td>\n",
       "    </tr>\n",
       "    <tr>\n",
       "      <th>7247</th>\n",
       "      <td>120254</td>\n",
       "      <td>41552</td>\n",
       "      <td>0.000546</td>\n",
       "      <td>0</td>\n",
       "      <td>0</td>\n",
       "      <td>0</td>\n",
       "      <td>0</td>\n",
       "      <td>0</td>\n",
       "      <td>0</td>\n",
       "      <td>0</td>\n",
       "      <td>...</td>\n",
       "      <td>0</td>\n",
       "      <td>0</td>\n",
       "      <td>0</td>\n",
       "      <td>0</td>\n",
       "      <td>0</td>\n",
       "      <td>0</td>\n",
       "      <td>0</td>\n",
       "      <td>0</td>\n",
       "      <td>0</td>\n",
       "      <td>265980.0</td>\n",
       "    </tr>\n",
       "    <tr>\n",
       "      <th>5653</th>\n",
       "      <td>113129</td>\n",
       "      <td>42357</td>\n",
       "      <td>0.000839</td>\n",
       "      <td>0</td>\n",
       "      <td>0</td>\n",
       "      <td>0</td>\n",
       "      <td>0</td>\n",
       "      <td>0</td>\n",
       "      <td>0</td>\n",
       "      <td>0</td>\n",
       "      <td>...</td>\n",
       "      <td>0</td>\n",
       "      <td>0</td>\n",
       "      <td>0</td>\n",
       "      <td>0</td>\n",
       "      <td>0</td>\n",
       "      <td>0</td>\n",
       "      <td>0</td>\n",
       "      <td>0</td>\n",
       "      <td>0</td>\n",
       "      <td>390060.0</td>\n",
       "    </tr>\n",
       "    <tr>\n",
       "      <th>3721</th>\n",
       "      <td>136246</td>\n",
       "      <td>31288</td>\n",
       "      <td>0.000618</td>\n",
       "      <td>0</td>\n",
       "      <td>0</td>\n",
       "      <td>0</td>\n",
       "      <td>0</td>\n",
       "      <td>0</td>\n",
       "      <td>0</td>\n",
       "      <td>0</td>\n",
       "      <td>...</td>\n",
       "      <td>0</td>\n",
       "      <td>0</td>\n",
       "      <td>0</td>\n",
       "      <td>0</td>\n",
       "      <td>0</td>\n",
       "      <td>0</td>\n",
       "      <td>0</td>\n",
       "      <td>0</td>\n",
       "      <td>0</td>\n",
       "      <td>541860.0</td>\n",
       "    </tr>\n",
       "    <tr>\n",
       "      <th>3433</th>\n",
       "      <td>198779</td>\n",
       "      <td>31263</td>\n",
       "      <td>0.002653</td>\n",
       "      <td>0</td>\n",
       "      <td>0</td>\n",
       "      <td>0</td>\n",
       "      <td>0</td>\n",
       "      <td>0</td>\n",
       "      <td>0</td>\n",
       "      <td>0</td>\n",
       "      <td>...</td>\n",
       "      <td>0</td>\n",
       "      <td>0</td>\n",
       "      <td>0</td>\n",
       "      <td>0</td>\n",
       "      <td>0</td>\n",
       "      <td>0</td>\n",
       "      <td>0</td>\n",
       "      <td>0</td>\n",
       "      <td>0</td>\n",
       "      <td>738180.0</td>\n",
       "    </tr>\n",
       "    <tr>\n",
       "      <th>3677</th>\n",
       "      <td>174102</td>\n",
       "      <td>28239</td>\n",
       "      <td>0.000111</td>\n",
       "      <td>0</td>\n",
       "      <td>0</td>\n",
       "      <td>0</td>\n",
       "      <td>0</td>\n",
       "      <td>0</td>\n",
       "      <td>0</td>\n",
       "      <td>0</td>\n",
       "      <td>...</td>\n",
       "      <td>0</td>\n",
       "      <td>0</td>\n",
       "      <td>0</td>\n",
       "      <td>0</td>\n",
       "      <td>0</td>\n",
       "      <td>0</td>\n",
       "      <td>0</td>\n",
       "      <td>0</td>\n",
       "      <td>0</td>\n",
       "      <td>446400.0</td>\n",
       "    </tr>\n",
       "    <tr>\n",
       "      <th>7379</th>\n",
       "      <td>116534</td>\n",
       "      <td>46467</td>\n",
       "      <td>0.002971</td>\n",
       "      <td>0</td>\n",
       "      <td>0</td>\n",
       "      <td>0</td>\n",
       "      <td>0</td>\n",
       "      <td>0</td>\n",
       "      <td>0</td>\n",
       "      <td>0</td>\n",
       "      <td>...</td>\n",
       "      <td>0</td>\n",
       "      <td>0</td>\n",
       "      <td>0</td>\n",
       "      <td>0</td>\n",
       "      <td>0</td>\n",
       "      <td>0</td>\n",
       "      <td>0</td>\n",
       "      <td>0</td>\n",
       "      <td>0</td>\n",
       "      <td>712200.0</td>\n",
       "    </tr>\n",
       "    <tr>\n",
       "      <th>5839</th>\n",
       "      <td>185717</td>\n",
       "      <td>44744</td>\n",
       "      <td>0.003241</td>\n",
       "      <td>0</td>\n",
       "      <td>0</td>\n",
       "      <td>0</td>\n",
       "      <td>0</td>\n",
       "      <td>0</td>\n",
       "      <td>0</td>\n",
       "      <td>0</td>\n",
       "      <td>...</td>\n",
       "      <td>0</td>\n",
       "      <td>0</td>\n",
       "      <td>0</td>\n",
       "      <td>0</td>\n",
       "      <td>0</td>\n",
       "      <td>0</td>\n",
       "      <td>0</td>\n",
       "      <td>0</td>\n",
       "      <td>0</td>\n",
       "      <td>607740.0</td>\n",
       "    </tr>\n",
       "    <tr>\n",
       "      <th>5546</th>\n",
       "      <td>101748</td>\n",
       "      <td>43782</td>\n",
       "      <td>0.001152</td>\n",
       "      <td>0</td>\n",
       "      <td>0</td>\n",
       "      <td>0</td>\n",
       "      <td>0</td>\n",
       "      <td>0</td>\n",
       "      <td>0</td>\n",
       "      <td>0</td>\n",
       "      <td>...</td>\n",
       "      <td>0</td>\n",
       "      <td>0</td>\n",
       "      <td>0</td>\n",
       "      <td>0</td>\n",
       "      <td>0</td>\n",
       "      <td>0</td>\n",
       "      <td>0</td>\n",
       "      <td>0</td>\n",
       "      <td>0</td>\n",
       "      <td>463320.0</td>\n",
       "    </tr>\n",
       "    <tr>\n",
       "      <th>5423</th>\n",
       "      <td>165465</td>\n",
       "      <td>41822</td>\n",
       "      <td>0.001385</td>\n",
       "      <td>0</td>\n",
       "      <td>0</td>\n",
       "      <td>0</td>\n",
       "      <td>0</td>\n",
       "      <td>0</td>\n",
       "      <td>0</td>\n",
       "      <td>0</td>\n",
       "      <td>...</td>\n",
       "      <td>0</td>\n",
       "      <td>0</td>\n",
       "      <td>0</td>\n",
       "      <td>0</td>\n",
       "      <td>0</td>\n",
       "      <td>0</td>\n",
       "      <td>0</td>\n",
       "      <td>0</td>\n",
       "      <td>0</td>\n",
       "      <td>387060.0</td>\n",
       "    </tr>\n",
       "  </tbody>\n",
       "</table>\n",
       "<p>10 rows × 990 columns</p>\n",
       "</div>"
      ],
      "text/plain": [
       "      HADM_ID  SUBJECT_ID    events  14010  14023  14033  14037  14045  14056  \\\n",
       "4875   125380       31585  0.000558      0      0      0      0      0      0   \n",
       "7247   120254       41552  0.000546      0      0      0      0      0      0   \n",
       "5653   113129       42357  0.000839      0      0      0      0      0      0   \n",
       "3721   136246       31288  0.000618      0      0      0      0      0      0   \n",
       "3433   198779       31263  0.002653      0      0      0      0      0      0   \n",
       "3677   174102       28239  0.000111      0      0      0      0      0      0   \n",
       "7379   116534       46467  0.002971      0      0      0      0      0      0   \n",
       "5839   185717       44744  0.003241      0      0      0      0      0      0   \n",
       "5546   101748       43782  0.001152      0      0      0      0      0      0   \n",
       "5423   165465       41822  0.001385      0      0      0      0      0      0   \n",
       "\n",
       "      14084  ...  21473  21476  21478  21484  21488  21492  21499  21521  \\\n",
       "4875      0  ...      0      0      0      0      0      0      0      0   \n",
       "7247      0  ...      0      0      0      0      0      0      0      0   \n",
       "5653      0  ...      0      0      0      0      0      0      0      0   \n",
       "3721      0  ...      0      0      0      0      0      0      0      0   \n",
       "3433      0  ...      0      0      0      0      0      0      0      0   \n",
       "3677      0  ...      0      0      0      0      0      0      0      0   \n",
       "7379      0  ...      0      0      0      0      0      0      0      0   \n",
       "5839      0  ...      0      0      0      0      0      0      0      0   \n",
       "5546      0  ...      0      0      0      0      0      0      0      0   \n",
       "5423      0  ...      0      0      0      0      0      0      0      0   \n",
       "\n",
       "      21545       los  \n",
       "4875      0  427020.0  \n",
       "7247      0  265980.0  \n",
       "5653      0  390060.0  \n",
       "3721      0  541860.0  \n",
       "3433      0  738180.0  \n",
       "3677      0  446400.0  \n",
       "7379      0  712200.0  \n",
       "5839      0  607740.0  \n",
       "5546      0  463320.0  \n",
       "5423      0  387060.0  \n",
       "\n",
       "[10 rows x 990 columns]"
      ]
     },
     "execution_count": 46,
     "metadata": {},
     "output_type": "execute_result"
    }
   ],
   "source": [
    "dataset.head(10)"
   ]
  },
  {
   "cell_type": "markdown",
   "metadata": {},
   "source": [
    "# Machine Learning Task\n",
    "## Cross Validation + prediction + evaluation"
   ]
  },
  {
   "cell_type": "markdown",
   "metadata": {},
   "source": [
    "**Note:** We tried using gradient boosted trees (`from dask_ml.xgboost import XGBRegressor`) but there seems to be an [unresolved bug](https://github.com/dask/dask-xgboost/issues/31) in this distributed implementation and, since the focus of this course is on distribution rather than ML techniques, we simplified and went for a simpler regressor.\n",
    "\n",
    "Multiple regression techniques were tested, such as: LogisticRegression, LinearRegression, Ridge, Lasso, LassoLars, ElasticNet, ...\n",
    "\n",
    "Since this is time data, we separate the past and train a model using cross validation and then we use that model to predict the future. This is done by separating the _timeline_ in two chunks, the train with 80% of the data and the predict with 20%. The dataset is an aggregation from the events dataframe according to the hospital admission and so it is sorted by admission time for that admission."
   ]
  },
  {
   "cell_type": "code",
   "execution_count": 47,
   "metadata": {},
   "outputs": [],
   "source": [
    "# from dask_ml.model_selection import KFold\n",
    "# from dask_ml.linear_model import LogisticRegression, LinearRegression\n",
    "from sklearn.model_selection import KFold, GridSearchCV "
   ]
  },
  {
   "cell_type": "code",
   "execution_count": 48,
   "metadata": {},
   "outputs": [],
   "source": [
    "from sklearn.externals import joblib\n",
    "from sklearn.linear_model import LogisticRegression, LinearRegression, Ridge, RidgeCV, Lasso, ElasticNet, LassoLars"
   ]
  },
  {
   "cell_type": "markdown",
   "metadata": {},
   "source": [
    "Prepare the K-Fold cross-validation with 10 folds"
   ]
  },
  {
   "cell_type": "code",
   "execution_count": 49,
   "metadata": {},
   "outputs": [],
   "source": [
    "cv = KFold(n_splits=10, random_state=None, shuffle=True)"
   ]
  },
  {
   "cell_type": "markdown",
   "metadata": {},
   "source": [
    "Separate 80-20, according to the time (data is sorted in ascending order, at this stage)"
   ]
  },
  {
   "cell_type": "code",
   "execution_count": 50,
   "metadata": {},
   "outputs": [
    {
     "name": "stdout",
     "output_type": "stream",
     "text": [
      "train= 6896\n",
      "predict= 1725\n",
      "total= 8621\n"
     ]
    }
   ],
   "source": [
    "train_rows = int(0.8*len(dataset))\n",
    "dataset_train = dataset.iloc[:train_rows, :]\n",
    "dataset_predict = dataset.iloc[train_rows:, :]\n",
    "print(\"train=\", len(dataset_train))\n",
    "print(\"predict=\", len(dataset_predict))\n",
    "print(\"total=\", len(dataset))"
   ]
  },
  {
   "cell_type": "markdown",
   "metadata": {},
   "source": [
    "### 1º Simple features only\n",
    "This part only uses the `SUBJECT_ID` and `events` as features"
   ]
  },
  {
   "cell_type": "markdown",
   "metadata": {},
   "source": [
    "Separate the features (`X`) from the target variable (`y`)"
   ]
  },
  {
   "cell_type": "code",
   "execution_count": 51,
   "metadata": {},
   "outputs": [],
   "source": [
    "# X = dataset.iloc[:, 1: len(dataset.columns) - 1].values\n",
    "X = dataset_train.iloc[:, [2]].values\n",
    "y = dataset_train.iloc[:, [-1]].values"
   ]
  },
  {
   "cell_type": "code",
   "execution_count": 52,
   "metadata": {},
   "outputs": [],
   "source": [
    "# Predict\n",
    "Xp = dataset_predict.iloc[:, [2]].values\n",
    "yp = dataset_predict.iloc[:, [-1]].values"
   ]
  },
  {
   "cell_type": "markdown",
   "metadata": {},
   "source": [
    "Train and score for each fold"
   ]
  },
  {
   "cell_type": "code",
   "execution_count": 53,
   "metadata": {},
   "outputs": [],
   "source": [
    "scores = []\n",
    "model = LinearRegression()\n",
    "# model = LogisticRegression()\n",
    "# model = Ridge(alpha=0.5)\n",
    "# model = RidgeCV()\n",
    "# model = Lasso(alpha=1)\n",
    "# model = LassoLars(alpha=0.5)\n",
    "# model = ElasticNet()\n",
    "with joblib.parallel_backend('dask'):\n",
    "    for train_index, test_index in cv.split(X):\n",
    "        X_train, X_test, y_train, y_test = X[train_index], X[test_index], y[train_index], y[test_index]\n",
    "        model.fit(X_train, y_train)\n",
    "        scores.append(model.score(X_test, y_test))"
   ]
  },
  {
   "cell_type": "markdown",
   "metadata": {},
   "source": [
    "For this learning algorithm, we can get the [R^2 coefficient](https://en.wikipedia.org/wiki/Coefficient_of_determination) per fold ($\\in [-1,1]$, where -1 is the worst, 0 is random estimator and 1 is perfect estimator)"
   ]
  },
  {
   "cell_type": "code",
   "execution_count": 54,
   "metadata": {
    "scrolled": true
   },
   "outputs": [
    {
     "name": "stdout",
     "output_type": "stream",
     "text": [
      "[0.04929193100099117, 0.025499591044017778, -0.011560837270635504, 0.021443627133020504, 0.030774170696959424, 0.009297468564202993, 0.03030867198704323, -0.022759653809371283, 0.026412592221031986, 0.03441450616727204]\n"
     ]
    }
   ],
   "source": [
    "print(scores)"
   ]
  },
  {
   "cell_type": "markdown",
   "metadata": {},
   "source": [
    "We can also get the coefficients for each feature"
   ]
  },
  {
   "cell_type": "code",
   "execution_count": 55,
   "metadata": {},
   "outputs": [
    {
     "name": "stdout",
     "output_type": "stream",
     "text": [
      "[6555764.58956849]\n"
     ]
    }
   ],
   "source": [
    "print(model.coef_[0])"
   ]
  },
  {
   "cell_type": "markdown",
   "metadata": {},
   "source": [
    "Applying the model to the \"unseen\" data representing the future predictions we want to make"
   ]
  },
  {
   "cell_type": "code",
   "execution_count": 56,
   "metadata": {},
   "outputs": [
    {
     "name": "stdout",
     "output_type": "stream",
     "text": [
      "The predicted LoS in hours are:  [219. 219. 218. ... 220. 219. 225.]\n"
     ]
    }
   ],
   "source": [
    "print(\"The predicted LoS in hours are: \", model.predict(Xp).T[0]//3600)"
   ]
  },
  {
   "cell_type": "code",
   "execution_count": 57,
   "metadata": {
    "scrolled": true
   },
   "outputs": [
    {
     "name": "stdout",
     "output_type": "stream",
     "text": [
      "The model score for the unseen data: 0.0230\n"
     ]
    }
   ],
   "source": [
    "print(\"The model score for the unseen data: %.4f\" % model.score(Xp, yp))"
   ]
  },
  {
   "cell_type": "markdown",
   "metadata": {},
   "source": [
    "### 2º Many binary features included\n",
    "This part only uses, besides the `SUBJECT_ID` and `events` columns, all the previously defined binary features for the caregivers. The results are much worse, maybe due to the small amount of admissions and to the sparsity of these features, besides it can also be the case that the caregiver(s) in charge of patients are not important when the Length of Stay is considered."
   ]
  },
  {
   "cell_type": "markdown",
   "metadata": {},
   "source": [
    "Separate the features (`X`) from the target variable (`y`)"
   ]
  },
  {
   "cell_type": "code",
   "execution_count": 58,
   "metadata": {},
   "outputs": [],
   "source": [
    "X = dataset_train.iloc[:, 1: len(dataset.columns) - 1].values\n",
    "y = dataset_train.iloc[:, [-1]].values"
   ]
  },
  {
   "cell_type": "code",
   "execution_count": 59,
   "metadata": {},
   "outputs": [],
   "source": [
    "# Predict\n",
    "Xp = dataset_predict.iloc[:, 1: len(dataset.columns) - 1].values\n",
    "yp = dataset_predict.iloc[:, [-1]].values"
   ]
  },
  {
   "cell_type": "markdown",
   "metadata": {},
   "source": [
    "Train and score for each fold"
   ]
  },
  {
   "cell_type": "code",
   "execution_count": 60,
   "metadata": {},
   "outputs": [],
   "source": [
    "scores = []\n",
    "# model = LinearRegression()\n",
    "# model = LogisticRegression()\n",
    "model = Ridge(alpha=0.5)\n",
    "# model = RidgeCV()\n",
    "# model = Lasso(alpha=0.01)\n",
    "# model = LassoLars(alpha=0.01)\n",
    "# model = ElasticNet()\n",
    "with joblib.parallel_backend('dask'):\n",
    "    for train_index, test_index in cv.split(X):\n",
    "        X_train, X_test, y_train, y_test = X[train_index], X[test_index], y[train_index], y[test_index]\n",
    "        model.fit(X_train, y_train)\n",
    "        scores.append(model.score(X_test, y_test))"
   ]
  },
  {
   "cell_type": "code",
   "execution_count": 61,
   "metadata": {
    "scrolled": true
   },
   "outputs": [
    {
     "name": "stdout",
     "output_type": "stream",
     "text": [
      "[-0.059677114852968005, -0.17110839251859658, -0.15151018968547114, -0.07234877454099342, -0.06492391821960486, -0.1141970012421687, -0.10983554960182729, -0.08687566456193108, -0.18721736599372152, -0.14063744489421537]\n"
     ]
    }
   ],
   "source": [
    "print(scores)"
   ]
  },
  {
   "cell_type": "markdown",
   "metadata": {},
   "source": [
    "We can also get the coefficients for each feature"
   ]
  },
  {
   "cell_type": "code",
   "execution_count": 62,
   "metadata": {
    "scrolled": true
   },
   "outputs": [
    {
     "name": "stdout",
     "output_type": "stream",
     "text": [
      "The first 10 coefficients are:\n",
      " [0.6410281218499403, 5551173.302909249, -209705.70030602888, 51877.9401095341, 117019.86459509865, -336162.2743293109, -191644.7498022287, -106689.9275318691, -72545.97092858772, -209701.21727731422]\n"
     ]
    }
   ],
   "source": [
    "print(\"The first 10 coefficients are:\\n\", list(model.coef_[0])[:10])"
   ]
  },
  {
   "cell_type": "markdown",
   "metadata": {},
   "source": [
    "Applying the model to the \"unseen\" data representing the future predictions we want to make"
   ]
  },
  {
   "cell_type": "code",
   "execution_count": 63,
   "metadata": {},
   "outputs": [
    {
     "name": "stdout",
     "output_type": "stream",
     "text": [
      "The predicted LoS in hours are:  [206. 220. 192. ... 201. 362. 287.]\n"
     ]
    }
   ],
   "source": [
    "print(\"The predicted LoS in hours are: \", model.predict(Xp).T[0]//3600)"
   ]
  },
  {
   "cell_type": "code",
   "execution_count": 64,
   "metadata": {
    "scrolled": true
   },
   "outputs": [
    {
     "name": "stdout",
     "output_type": "stream",
     "text": [
      "The model score for the unseen data: -0.1197\n"
     ]
    }
   ],
   "source": [
    "print(\"The model score for the unseen data: %.4f\" % model.score(Xp, yp))"
   ]
  },
  {
   "cell_type": "markdown",
   "metadata": {},
   "source": [
    "# Cloud Computing Remarks\n",
    "\n",
    "After developing this notebook with distribution in mind, we applied it to the complete dataset. Several attempts to execute the presented notebook on the entire EVENTS dataset were made, with different methods, namely:\n",
    "\n",
    "### Using [Google Compute Engine](https://cloud.google.com/compute/) \n",
    "\n",
    "Created multiple instances with different configurations, ranging from 8 to 24 vCPUs and up to 90GB of memory. Additional resources were not possible to be allocated, given the regions limits imposed by GCP. No instance proved viable enough to execute the notebook, mostly due to insufficient memory and overall unresponsiveness of the system. \n",
    "\n",
    "### Using [Google Kubernetes Engine](https://cloud.google.com/kubernetes-engine/)\n",
    "\n",
    "Given the limitiations with GCE mentioned above, an attempt to setup a Dask instance on a Kubernetes cluster was made. The initial setup was successful and a cluster comprised of 4 nodes (each with 2vCPUs and 7.5GB of RAM). A [JupyterLab](https://github.com/jupyterlab/jupyterlab) instance was started to submit tasks to the scheduler, but running Dask related functions took a while, mostly because of untraceable errors messages and weak community support. We eventually got it to work and ran all the visualization and statistics sections of this notebook, on the entire dataset, only the Machine Learning task above was not executed in a feasible amount of time. The results can be found on the additionally provided notebook, `full.ipynb`.\n",
    "\n",
    "All in all, we were able to execute most tasks but had to overcome the inherent challenges to using `dask` and `dask-ml`, which are relatively new technologies and still not very mature, albeit being very promising as only the ML task was not completed."
   ]
  },
  {
   "cell_type": "markdown",
   "metadata": {},
   "source": [
    "# Final Remarks about the Project\n",
    "Overall, we were able to leverage Dask and Google Cloud Platform/Engine and Kubernetes Engine to analyze and visualize relevant information about the provided datasets (which were quite large). We also found that the features we selected for the prediction task did not yield very good results on the 1M sample, but since the goal of this project was process rather than results we decided to focus more on the first. As such, we have performed complex queries, such as: _filters, groupby, aggregations, joins, ..._ on a large amount of data, namely the full dataset (see [full.ipynb](full.ipynb)). \n",
    "\n",
    "As for the prediction task, we had the chance to use cross-validation and try out several algorithms. We also believe that, with further time investment in feature engineering, better results could be achieved for the prediction of length of stay, namely: isolate specific tests such as blood samples and drug administrations, as those typically reflect the gravity of the health condition that the patients have. We also took care to ensure that we split the data according to time so that we predict the future using the past and not the other way around, however the drawback of using cross-validation is that this happens for every fold except the last, but we used it anyway, as this was the required specifications. \n",
    "\n",
    "Finally, we learned a lot about the available tools for both reading, manipulating and visualizing large amounts of data. Further techniques, that were explored in previous practical assignments, could have been used (such as pipelines) but Dask proved to be a very good tool namely for lazy loading/computation and also by providing a higher level API for parallel processing in a cloud cluster. \n",
    "\n",
    "We consider ourselves better equipped to handle large amounts of data in the future :)"
   ]
  }
 ],
 "metadata": {
  "kernelspec": {
   "display_name": "Python 3",
   "language": "python",
   "name": "python3"
  },
  "language_info": {
   "codemirror_mode": {
    "name": "ipython",
    "version": 3
   },
   "file_extension": ".py",
   "mimetype": "text/x-python",
   "name": "python",
   "nbconvert_exporter": "python",
   "pygments_lexer": "ipython3",
   "version": "3.7.2"
  },
  "latex_envs": {
   "LaTeX_envs_menu_present": true,
   "autoclose": false,
   "autocomplete": true,
   "bibliofile": "biblio.bib",
   "cite_by": "apalike",
   "current_citInitial": 1,
   "eqLabelWithNumbers": true,
   "eqNumInitial": 1,
   "hotkeys": {
    "equation": "Ctrl-E",
    "itemize": "Ctrl-I"
   },
   "labels_anchors": false,
   "latex_user_defs": false,
   "report_style_numbering": false,
   "user_envs_cfg": false
  },
  "toc": {
   "base_numbering": 1,
   "nav_menu": {},
   "number_sections": true,
   "sideBar": true,
   "skip_h1_title": false,
   "title_cell": "Table of Contents",
   "title_sidebar": "Contents",
   "toc_cell": false,
   "toc_position": {},
   "toc_section_display": true,
   "toc_window_display": false
  }
 },
 "nbformat": 4,
 "nbformat_minor": 2
}
